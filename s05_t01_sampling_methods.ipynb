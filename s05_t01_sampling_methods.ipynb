{
 "cells": [
  {
   "cell_type": "markdown",
   "id": "857001a9",
   "metadata": {},
   "source": [
    "$~$\n",
    "\n",
    "# IT Academy - Data Science Itinerary\n",
    "\n",
    "$~$\n",
    "\n"
   ]
  },
  {
   "cell_type": "markdown",
   "id": "ad6e86cc",
   "metadata": {},
   "source": [
    "## S05 T01: Sampling Methods with pyhton\n",
    "__________\n"
   ]
  },
  {
   "cell_type": "code",
   "execution_count": 47,
   "id": "802ff245",
   "metadata": {
    "ExecuteTime": {
     "end_time": "2022-03-10T14:57:31.032378Z",
     "start_time": "2022-03-10T14:57:31.026617Z"
    }
   },
   "outputs": [],
   "source": [
    "import pandas as pd\n",
    "import numpy as np\n",
    "import matplotlib.pyplot as plt\n",
    "import os\n",
    "import kaggle\n",
    "from IPython.display import display,HTML\n",
    "import seaborn as sns\n",
    "import matplotlib.image as mpimg\n",
    "from matplotlib import rcParams\n",
    "import matplotlib as mpl\n",
    "from matplotlib import cm\n",
    "from matplotlib import colors\n",
    "import squarify\n",
    "from sklearn.model_selection import train_test_split\n",
    "import imblearn\n",
    "from imblearn.over_sampling import SMOTE\n",
    "from sklearn import preprocessing\n",
    "from sklearn.preprocessing import LabelEncoder\n",
    "import random\n",
    "pd.options.mode.chained_assignment = None  #to avoid SettingWithCopyWarning"
   ]
  },
  {
   "cell_type": "markdown",
   "id": "7557656a",
   "metadata": {},
   "source": [
    "$~$\n",
    "\n",
    "####  Simple random sample\n",
    "\n",
    "$~$\n",
    "\n",
    "Choose a sports-themed dataset you like. Perform a sampling of the data generating a simple random sample and a systematic sample.\n",
    "$~$\n",
    "___\n",
    "\n",
    "$~$\n",
    "##### finding a dataset\n",
    "\n",
    "$~$\n",
    "\n",
    "Let's find a dataset in Kaggle. Using de following line, we can search for \"sports\" datasets\n",
    "\n",
    "$~$"
   ]
  },
  {
   "cell_type": "code",
   "execution_count": 2,
   "id": "99e311f6",
   "metadata": {
    "ExecuteTime": {
     "end_time": "2022-03-10T14:55:46.723767Z",
     "start_time": "2022-03-10T14:55:45.180253Z"
    }
   },
   "outputs": [
    {
     "name": "stdout",
     "output_type": "stream",
     "text": [
      "ref                                                        title                                            size  lastUpdated          downloadCount  voteCount  usabilityRating  \r\n",
      "---------------------------------------------------------  ----------------------------------------------  -----  -------------------  -------------  ---------  ---------------  \r\n",
      "gpiosenka/sports-classification                            100 Sports Image Classification                 477MB  2022-01-13 16:08:31           1230         40  0.8235294        \r\n",
      "the-guardian/olympic-games                                 Olympic Sports and Medals, 1896-2014            483KB  2017-01-24 15:05:37          23095        208  0.7058824        \r\n",
      "ekrembayar/fifa-21-complete-player-dataset                 FIFA 21 COMPLETE PLAYER DATASET                   3MB  2020-10-05 06:21:30           2453         61  0.8235294        \r\n",
      "parulpandey/forbes-highest-paid-athletes-19902019          Forbes Highest Paid Athletes 1990-2020            4KB  2020-12-19 02:17:15           2825         41  0.8235294        \r\n",
      "artimous/complete-fifa-2017-player-dataset-global          Complete FIFA 2017 Player dataset (Global)       10MB  2017-04-13 08:37:43          14398        221  0.7647059        \r\n",
      "rishidamarla/toughest-sports-by-skill                      Toughest Sports by Skill                         11KB  2020-09-20 18:24:13            613         23  0.7647059        \r\n",
      "rahul253801/political-donations-by-american-sports-owners  Political Donations By American Sports Owners    34KB  2021-02-12 07:19:45            217         15  1.0              \r\n",
      "amananandrai/ag-news-classification-dataset                AG News Classification Dataset                   11MB  2020-04-20 07:55:38           4157         43  0.7058824        \r\n",
      "rishikeshkonapure/sports-image-dataset                     Sports Image Dataset                            466MB  2020-07-29 19:05:52            139          3  0.875            \r\n",
      "scottfree/sports-lines                                     Pro and College Sports Lines                     71KB  2017-11-08 15:00:12            815         26  0.64705884       \r\n",
      "yaswanthgali/sport-celebrity-image-classification          Sport Celebrity Image Classification             15MB  2021-11-26 11:34:15            151         22  0.875            \r\n",
      "maneesh99/sports-datasetbbc                                Sports Dataset(BBC)                             188KB  2020-10-11 07:40:22            176          7  0.64705884       \r\n",
      "erichqiu/nba-odds-and-scores                               NBA Odds and Scores                               2MB  2020-05-02 07:22:39            727         17  0.875            \r\n",
      "shitalgaikwad123/skills-required-for-different-sports      skills required for different sports             11KB  2021-07-23 17:37:57            167         11  0.7647059        \r\n",
      "zygmunt/betfair-sports                                     One week of Betfair data: 23 sports              81MB  2017-08-31 16:46:43            902         23  0.7647059        \r\n",
      "logandonaldson/sports-stadium-locations                    Sports Stadium Locations                          3KB  2022-01-15 22:01:16             44          5  0.9411765        \r\n",
      "harti28/independence-and-interdependence-in-sports         Independence and Interdependence in Sports        5KB  2021-03-02 17:07:15            109          4  1.0              \r\n",
      "shivagovindasamy/2020-tokyo-paralympics                    2020 Tokyo Paralympics                          116KB  2021-09-05 22:18:47            630         27  1.0              \r\n",
      "aryashah2k/beginners-sports-analytics-nfl-dataset          Beginners Sports Analytics NFL Dataset           21MB  2021-07-11 08:43:47            501          4  1.0              \r\n",
      "aalborguniversity/thermal-soccer-dataset                   Thermal soccer dataset                            2GB  2018-02-08 09:54:24            861         29  0.6875           \r\n"
     ]
    }
   ],
   "source": [
    "!kaggle datasets list -s \"sports\""
   ]
  },
  {
   "cell_type": "markdown",
   "id": "615d98e0",
   "metadata": {},
   "source": [
    "$~$\n",
    "\n",
    "for this exercice we are going to use [Olympic Sports and Medals, 1896-2014](https://www.kaggle.com/the-guardian/olympic-games?select=summer.csv) from Kaggle.\n",
    "$~$ \n",
    "\n",
    "\"the-guardian/olympic-games\"\n",
    "$~$ \n",
    "_____\n",
    "\n",
    "$~$ \n",
    "\n",
    "##### downloading a dataset from kaggle\n",
    "\n",
    "$~$ \n",
    "\n",
    "_____\n",
    "\n",
    "$~$ \n",
    "\n",
    "We use the following code to download the dataset from kagggle:\n",
    "\n",
    "$~$ "
   ]
  },
  {
   "cell_type": "code",
   "execution_count": 3,
   "id": "6f8a14c7",
   "metadata": {
    "ExecuteTime": {
     "end_time": "2022-03-10T14:55:48.269505Z",
     "start_time": "2022-03-10T14:55:46.727293Z"
    }
   },
   "outputs": [
    {
     "name": "stdout",
     "output_type": "stream",
     "text": [
      "Downloading olympic-games.zip to ./data\n",
      "100%|████████████████████████████████████████| 483k/483k [00:00<00:00, 3.45MB/s]\n",
      "100%|████████████████████████████████████████| 483k/483k [00:00<00:00, 3.43MB/s]\n"
     ]
    }
   ],
   "source": [
    "PATH = \"./data\"\n",
    "\n",
    "if not os.path.exists(PATH):\n",
    "    os.makedirs(PATH)\n",
    "if not os.listdir(PATH):\n",
    "        !kaggle datasets download -d \"the-guardian/olympic-games\" --unzip -p $PATH  "
   ]
  },
  {
   "cell_type": "code",
   "execution_count": 4,
   "id": "a42efb16",
   "metadata": {
    "ExecuteTime": {
     "end_time": "2022-03-10T14:55:48.285495Z",
     "start_time": "2022-03-10T14:55:48.277531Z"
    }
   },
   "outputs": [
    {
     "name": "stdout",
     "output_type": "stream",
     "text": [
      "./data/winter.csv\n",
      "./data/summer.csv\n",
      "./data/dictionary.csv\n"
     ]
    }
   ],
   "source": [
    "files = [os.path.join(PATH,f) for f in os.listdir(PATH)]\n",
    "\n",
    "for f in files:\n",
    "    print(f)"
   ]
  },
  {
   "cell_type": "markdown",
   "id": "6c68d271",
   "metadata": {},
   "source": [
    "\n",
    "$~$ \n",
    "\n",
    "as we have downloaded three files, let's work with the file: \"summer.csv\"\n",
    "\n",
    "\n",
    "$~$\n",
    "___\n",
    "\n",
    "\n",
    "$~$\n",
    "\n",
    "##### reading the file\n",
    "\n",
    "\n",
    "$~$"
   ]
  },
  {
   "cell_type": "code",
   "execution_count": 5,
   "id": "19fe347e",
   "metadata": {
    "ExecuteTime": {
     "end_time": "2022-03-10T14:55:48.409466Z",
     "start_time": "2022-03-10T14:55:48.288611Z"
    }
   },
   "outputs": [],
   "source": [
    "df = pd.read_csv(files[1])"
   ]
  },
  {
   "cell_type": "markdown",
   "id": "c1aeebcd",
   "metadata": {},
   "source": [
    "$~$\n",
    "____\n",
    "##### getting information from the dataset\n",
    "\n",
    "\n",
    "$~$\n",
    "\n"
   ]
  },
  {
   "cell_type": "code",
   "execution_count": 6,
   "id": "5d232ea4",
   "metadata": {
    "ExecuteTime": {
     "end_time": "2022-03-10T14:55:48.502045Z",
     "start_time": "2022-03-10T14:55:48.416636Z"
    }
   },
   "outputs": [
    {
     "name": "stdout",
     "output_type": "stream",
     "text": [
      "<class 'pandas.core.frame.DataFrame'>\n",
      "RangeIndex: 31165 entries, 0 to 31164\n",
      "Data columns (total 9 columns):\n",
      " #   Column      Non-Null Count  Dtype \n",
      "---  ------      --------------  ----- \n",
      " 0   Year        31165 non-null  int64 \n",
      " 1   City        31165 non-null  object\n",
      " 2   Sport       31165 non-null  object\n",
      " 3   Discipline  31165 non-null  object\n",
      " 4   Athlete     31165 non-null  object\n",
      " 5   Country     31161 non-null  object\n",
      " 6   Gender      31165 non-null  object\n",
      " 7   Event       31165 non-null  object\n",
      " 8   Medal       31165 non-null  object\n",
      "dtypes: int64(1), object(8)\n",
      "memory usage: 2.1+ MB\n"
     ]
    }
   ],
   "source": [
    "df.info()"
   ]
  },
  {
   "cell_type": "code",
   "execution_count": 7,
   "id": "f658d311",
   "metadata": {
    "ExecuteTime": {
     "end_time": "2022-03-10T14:55:48.594181Z",
     "start_time": "2022-03-10T14:55:48.504809Z"
    }
   },
   "outputs": [
    {
     "data": {
      "text/html": [
       "<div>\n",
       "<style scoped>\n",
       "    .dataframe tbody tr th:only-of-type {\n",
       "        vertical-align: middle;\n",
       "    }\n",
       "\n",
       "    .dataframe tbody tr th {\n",
       "        vertical-align: top;\n",
       "    }\n",
       "\n",
       "    .dataframe thead th {\n",
       "        text-align: right;\n",
       "    }\n",
       "</style>\n",
       "<table border=\"1\" class=\"dataframe\">\n",
       "  <thead>\n",
       "    <tr style=\"text-align: right;\">\n",
       "      <th></th>\n",
       "      <th>City</th>\n",
       "      <th>Sport</th>\n",
       "      <th>Discipline</th>\n",
       "      <th>Athlete</th>\n",
       "      <th>Country</th>\n",
       "      <th>Gender</th>\n",
       "      <th>Event</th>\n",
       "      <th>Medal</th>\n",
       "    </tr>\n",
       "  </thead>\n",
       "  <tbody>\n",
       "    <tr>\n",
       "      <th>count</th>\n",
       "      <td>31165</td>\n",
       "      <td>31165</td>\n",
       "      <td>31165</td>\n",
       "      <td>31165</td>\n",
       "      <td>31161</td>\n",
       "      <td>31165</td>\n",
       "      <td>31165</td>\n",
       "      <td>31165</td>\n",
       "    </tr>\n",
       "    <tr>\n",
       "      <th>unique</th>\n",
       "      <td>22</td>\n",
       "      <td>43</td>\n",
       "      <td>67</td>\n",
       "      <td>22762</td>\n",
       "      <td>147</td>\n",
       "      <td>2</td>\n",
       "      <td>666</td>\n",
       "      <td>3</td>\n",
       "    </tr>\n",
       "    <tr>\n",
       "      <th>top</th>\n",
       "      <td>London</td>\n",
       "      <td>Aquatics</td>\n",
       "      <td>Athletics</td>\n",
       "      <td>PHELPS, Michael</td>\n",
       "      <td>USA</td>\n",
       "      <td>Men</td>\n",
       "      <td>Football</td>\n",
       "      <td>Gold</td>\n",
       "    </tr>\n",
       "    <tr>\n",
       "      <th>freq</th>\n",
       "      <td>3567</td>\n",
       "      <td>4170</td>\n",
       "      <td>3638</td>\n",
       "      <td>22</td>\n",
       "      <td>4585</td>\n",
       "      <td>22746</td>\n",
       "      <td>1497</td>\n",
       "      <td>10486</td>\n",
       "    </tr>\n",
       "  </tbody>\n",
       "</table>\n",
       "</div>"
      ],
      "text/plain": [
       "          City     Sport Discipline          Athlete Country Gender     Event  \\\n",
       "count    31165     31165      31165            31165   31161  31165     31165   \n",
       "unique      22        43         67            22762     147      2       666   \n",
       "top     London  Aquatics  Athletics  PHELPS, Michael     USA    Men  Football   \n",
       "freq      3567      4170       3638               22    4585  22746      1497   \n",
       "\n",
       "        Medal  \n",
       "count   31165  \n",
       "unique      3  \n",
       "top      Gold  \n",
       "freq    10486  "
      ]
     },
     "execution_count": 7,
     "metadata": {},
     "output_type": "execute_result"
    }
   ],
   "source": [
    "df.describe(include=[object])  "
   ]
  },
  {
   "cell_type": "code",
   "execution_count": 8,
   "id": "ea2df9ab",
   "metadata": {
    "ExecuteTime": {
     "end_time": "2022-03-10T14:55:48.614263Z",
     "start_time": "2022-03-10T14:55:48.597641Z"
    }
   },
   "outputs": [
    {
     "data": {
      "text/html": [
       "<div>\n",
       "<style scoped>\n",
       "    .dataframe tbody tr th:only-of-type {\n",
       "        vertical-align: middle;\n",
       "    }\n",
       "\n",
       "    .dataframe tbody tr th {\n",
       "        vertical-align: top;\n",
       "    }\n",
       "\n",
       "    .dataframe thead th {\n",
       "        text-align: right;\n",
       "    }\n",
       "</style>\n",
       "<table border=\"1\" class=\"dataframe\">\n",
       "  <thead>\n",
       "    <tr style=\"text-align: right;\">\n",
       "      <th></th>\n",
       "      <th>Year</th>\n",
       "      <th>City</th>\n",
       "      <th>Sport</th>\n",
       "      <th>Discipline</th>\n",
       "      <th>Athlete</th>\n",
       "      <th>Country</th>\n",
       "      <th>Gender</th>\n",
       "      <th>Event</th>\n",
       "      <th>Medal</th>\n",
       "    </tr>\n",
       "  </thead>\n",
       "  <tbody>\n",
       "    <tr>\n",
       "      <th>0</th>\n",
       "      <td>1896</td>\n",
       "      <td>Athens</td>\n",
       "      <td>Aquatics</td>\n",
       "      <td>Swimming</td>\n",
       "      <td>HAJOS, Alfred</td>\n",
       "      <td>HUN</td>\n",
       "      <td>Men</td>\n",
       "      <td>100M Freestyle</td>\n",
       "      <td>Gold</td>\n",
       "    </tr>\n",
       "    <tr>\n",
       "      <th>1</th>\n",
       "      <td>1896</td>\n",
       "      <td>Athens</td>\n",
       "      <td>Aquatics</td>\n",
       "      <td>Swimming</td>\n",
       "      <td>HERSCHMANN, Otto</td>\n",
       "      <td>AUT</td>\n",
       "      <td>Men</td>\n",
       "      <td>100M Freestyle</td>\n",
       "      <td>Silver</td>\n",
       "    </tr>\n",
       "    <tr>\n",
       "      <th>2</th>\n",
       "      <td>1896</td>\n",
       "      <td>Athens</td>\n",
       "      <td>Aquatics</td>\n",
       "      <td>Swimming</td>\n",
       "      <td>DRIVAS, Dimitrios</td>\n",
       "      <td>GRE</td>\n",
       "      <td>Men</td>\n",
       "      <td>100M Freestyle For Sailors</td>\n",
       "      <td>Bronze</td>\n",
       "    </tr>\n",
       "    <tr>\n",
       "      <th>3</th>\n",
       "      <td>1896</td>\n",
       "      <td>Athens</td>\n",
       "      <td>Aquatics</td>\n",
       "      <td>Swimming</td>\n",
       "      <td>MALOKINIS, Ioannis</td>\n",
       "      <td>GRE</td>\n",
       "      <td>Men</td>\n",
       "      <td>100M Freestyle For Sailors</td>\n",
       "      <td>Gold</td>\n",
       "    </tr>\n",
       "    <tr>\n",
       "      <th>4</th>\n",
       "      <td>1896</td>\n",
       "      <td>Athens</td>\n",
       "      <td>Aquatics</td>\n",
       "      <td>Swimming</td>\n",
       "      <td>CHASAPIS, Spiridon</td>\n",
       "      <td>GRE</td>\n",
       "      <td>Men</td>\n",
       "      <td>100M Freestyle For Sailors</td>\n",
       "      <td>Silver</td>\n",
       "    </tr>\n",
       "  </tbody>\n",
       "</table>\n",
       "</div>"
      ],
      "text/plain": [
       "   Year    City     Sport Discipline             Athlete Country Gender  \\\n",
       "0  1896  Athens  Aquatics   Swimming       HAJOS, Alfred     HUN    Men   \n",
       "1  1896  Athens  Aquatics   Swimming    HERSCHMANN, Otto     AUT    Men   \n",
       "2  1896  Athens  Aquatics   Swimming   DRIVAS, Dimitrios     GRE    Men   \n",
       "3  1896  Athens  Aquatics   Swimming  MALOKINIS, Ioannis     GRE    Men   \n",
       "4  1896  Athens  Aquatics   Swimming  CHASAPIS, Spiridon     GRE    Men   \n",
       "\n",
       "                        Event   Medal  \n",
       "0              100M Freestyle    Gold  \n",
       "1              100M Freestyle  Silver  \n",
       "2  100M Freestyle For Sailors  Bronze  \n",
       "3  100M Freestyle For Sailors    Gold  \n",
       "4  100M Freestyle For Sailors  Silver  "
      ]
     },
     "execution_count": 8,
     "metadata": {},
     "output_type": "execute_result"
    }
   ],
   "source": [
    "df.head()"
   ]
  },
  {
   "cell_type": "markdown",
   "id": "6a9b07ec",
   "metadata": {},
   "source": [
    "\n",
    "$~$\n",
    "____\n",
    "\n",
    "##### working on the dataset\n",
    "\n",
    "\n",
    "$~$\n",
    "\n",
    "we are going to analyze how many medals each country has, for them let's execute the following code:\n",
    "\n",
    "\n",
    "$~$"
   ]
  },
  {
   "cell_type": "code",
   "execution_count": 9,
   "id": "dd7f54eb",
   "metadata": {
    "ExecuteTime": {
     "end_time": "2022-03-10T14:55:48.630544Z",
     "start_time": "2022-03-10T14:55:48.616841Z"
    }
   },
   "outputs": [],
   "source": [
    "medal_count = df.groupby(\"Country\")[\"Medal\"].agg([\"count\"]).sort_values(by=\"count\", ascending=False)"
   ]
  },
  {
   "cell_type": "code",
   "execution_count": 10,
   "id": "0d0b4cfe",
   "metadata": {
    "ExecuteTime": {
     "end_time": "2022-03-10T14:55:48.642161Z",
     "start_time": "2022-03-10T14:55:48.636006Z"
    }
   },
   "outputs": [],
   "source": [
    "medal_count[\"proportion\"]= medal_count[\"count\"] / medal_count[\"count\"].sum()"
   ]
  },
  {
   "cell_type": "code",
   "execution_count": 11,
   "id": "39ad46ba",
   "metadata": {
    "ExecuteTime": {
     "end_time": "2022-03-10T14:55:48.656027Z",
     "start_time": "2022-03-10T14:55:48.645231Z"
    }
   },
   "outputs": [
    {
     "data": {
      "text/html": [
       "<div>\n",
       "<style scoped>\n",
       "    .dataframe tbody tr th:only-of-type {\n",
       "        vertical-align: middle;\n",
       "    }\n",
       "\n",
       "    .dataframe tbody tr th {\n",
       "        vertical-align: top;\n",
       "    }\n",
       "\n",
       "    .dataframe thead th {\n",
       "        text-align: right;\n",
       "    }\n",
       "</style>\n",
       "<table border=\"1\" class=\"dataframe\">\n",
       "  <thead>\n",
       "    <tr style=\"text-align: right;\">\n",
       "      <th></th>\n",
       "      <th>count</th>\n",
       "      <th>proportion</th>\n",
       "    </tr>\n",
       "    <tr>\n",
       "      <th>Country</th>\n",
       "      <th></th>\n",
       "      <th></th>\n",
       "    </tr>\n",
       "  </thead>\n",
       "  <tbody>\n",
       "    <tr>\n",
       "      <th>USA</th>\n",
       "      <td>4585</td>\n",
       "      <td>0.147139</td>\n",
       "    </tr>\n",
       "    <tr>\n",
       "      <th>URS</th>\n",
       "      <td>2049</td>\n",
       "      <td>0.065755</td>\n",
       "    </tr>\n",
       "    <tr>\n",
       "      <th>GBR</th>\n",
       "      <td>1720</td>\n",
       "      <td>0.055197</td>\n",
       "    </tr>\n",
       "    <tr>\n",
       "      <th>FRA</th>\n",
       "      <td>1396</td>\n",
       "      <td>0.044800</td>\n",
       "    </tr>\n",
       "    <tr>\n",
       "      <th>GER</th>\n",
       "      <td>1305</td>\n",
       "      <td>0.041879</td>\n",
       "    </tr>\n",
       "    <tr>\n",
       "      <th>ITA</th>\n",
       "      <td>1296</td>\n",
       "      <td>0.041590</td>\n",
       "    </tr>\n",
       "    <tr>\n",
       "      <th>AUS</th>\n",
       "      <td>1189</td>\n",
       "      <td>0.038157</td>\n",
       "    </tr>\n",
       "    <tr>\n",
       "      <th>HUN</th>\n",
       "      <td>1079</td>\n",
       "      <td>0.034627</td>\n",
       "    </tr>\n",
       "    <tr>\n",
       "      <th>SWE</th>\n",
       "      <td>1044</td>\n",
       "      <td>0.033503</td>\n",
       "    </tr>\n",
       "    <tr>\n",
       "      <th>NED</th>\n",
       "      <td>851</td>\n",
       "      <td>0.027310</td>\n",
       "    </tr>\n",
       "    <tr>\n",
       "      <th>GDR</th>\n",
       "      <td>825</td>\n",
       "      <td>0.026475</td>\n",
       "    </tr>\n",
       "    <tr>\n",
       "      <th>CHN</th>\n",
       "      <td>807</td>\n",
       "      <td>0.025898</td>\n",
       "    </tr>\n",
       "    <tr>\n",
       "      <th>JPN</th>\n",
       "      <td>788</td>\n",
       "      <td>0.025288</td>\n",
       "    </tr>\n",
       "    <tr>\n",
       "      <th>RUS</th>\n",
       "      <td>768</td>\n",
       "      <td>0.024646</td>\n",
       "    </tr>\n",
       "    <tr>\n",
       "      <th>CAN</th>\n",
       "      <td>649</td>\n",
       "      <td>0.020827</td>\n",
       "    </tr>\n",
       "    <tr>\n",
       "      <th>ROU</th>\n",
       "      <td>640</td>\n",
       "      <td>0.020538</td>\n",
       "    </tr>\n",
       "    <tr>\n",
       "      <th>NOR</th>\n",
       "      <td>554</td>\n",
       "      <td>0.017779</td>\n",
       "    </tr>\n",
       "    <tr>\n",
       "      <th>KOR</th>\n",
       "      <td>529</td>\n",
       "      <td>0.016976</td>\n",
       "    </tr>\n",
       "    <tr>\n",
       "      <th>POL</th>\n",
       "      <td>511</td>\n",
       "      <td>0.016399</td>\n",
       "    </tr>\n",
       "    <tr>\n",
       "      <th>DEN</th>\n",
       "      <td>507</td>\n",
       "      <td>0.016270</td>\n",
       "    </tr>\n",
       "  </tbody>\n",
       "</table>\n",
       "</div>"
      ],
      "text/plain": [
       "         count  proportion\n",
       "Country                   \n",
       "USA       4585    0.147139\n",
       "URS       2049    0.065755\n",
       "GBR       1720    0.055197\n",
       "FRA       1396    0.044800\n",
       "GER       1305    0.041879\n",
       "ITA       1296    0.041590\n",
       "AUS       1189    0.038157\n",
       "HUN       1079    0.034627\n",
       "SWE       1044    0.033503\n",
       "NED        851    0.027310\n",
       "GDR        825    0.026475\n",
       "CHN        807    0.025898\n",
       "JPN        788    0.025288\n",
       "RUS        768    0.024646\n",
       "CAN        649    0.020827\n",
       "ROU        640    0.020538\n",
       "NOR        554    0.017779\n",
       "KOR        529    0.016976\n",
       "POL        511    0.016399\n",
       "DEN        507    0.016270"
      ]
     },
     "execution_count": 11,
     "metadata": {},
     "output_type": "execute_result"
    }
   ],
   "source": [
    "medal_count.head(20)"
   ]
  },
  {
   "cell_type": "markdown",
   "id": "358c6e18",
   "metadata": {},
   "source": [
    "\n",
    "$~$\n",
    "\n",
    "As we can see, the country that has the most medals in total is USA.\n",
    "\n",
    "\n",
    "$~$"
   ]
  },
  {
   "cell_type": "markdown",
   "id": "e96ea0ee",
   "metadata": {
    "ExecuteTime": {
     "end_time": "2022-03-10T11:40:32.689429Z",
     "start_time": "2022-03-10T11:40:32.597315Z"
    }
   },
   "source": [
    "##### ploting the distribution\n",
    "\n",
    "____\n",
    "$~$\n",
    "\n",
    "let's see graphically how is the distribution of total medals by country \n",
    "\n",
    "\n",
    "$~$"
   ]
  },
  {
   "cell_type": "code",
   "execution_count": 12,
   "id": "815d96c3",
   "metadata": {
    "ExecuteTime": {
     "end_time": "2022-03-10T14:55:48.966217Z",
     "start_time": "2022-03-10T14:55:48.659193Z"
    }
   },
   "outputs": [
    {
     "data": {
      "image/png": "[encoded data removed]",
      "text/plain": [
       "<Figure size 720x360 with 1 Axes>"
      ]
     },
     "metadata": {
      "needs_background": "light"
     },
     "output_type": "display_data"
    }
   ],
   "source": [
    "plt.figure(figsize = (10,5))\n",
    "fig = sns.kdeplot(medal_count[\"proportion\"],bw_method=.10, shade=True)\n",
    "\n",
    "fig.spines['top'].set_visible(False)\n",
    "fig.spines['right'].set_visible(False)\n",
    "fig.set_title(\"Distribution of total medal by country\")\n",
    "\n",
    "plt.tight_layout()\n",
    "\n",
    "plt.show()"
   ]
  },
  {
   "cell_type": "markdown",
   "id": "d0f1ed11",
   "metadata": {},
   "source": [
    "$~$\n",
    "\n",
    "##### a simple sample\n",
    "___\n",
    "\n",
    "Once we have seen how the proportion of medals in our dataset is, let's proceed to obtain a simple random sample by executing the following code:\n",
    "\n",
    "$~$"
   ]
  },
  {
   "cell_type": "code",
   "execution_count": 13,
   "id": "8bcf3a61",
   "metadata": {
    "ExecuteTime": {
     "end_time": "2022-03-10T14:55:48.975252Z",
     "start_time": "2022-03-10T14:55:48.968823Z"
    }
   },
   "outputs": [],
   "source": [
    "df_sample = df.sample(n=1000,random_state=2021)"
   ]
  },
  {
   "cell_type": "markdown",
   "id": "d7356957",
   "metadata": {},
   "source": [
    "$~$\n",
    "\n",
    "now, we are going to transform the sample to be able to make comparisons with our original data\n",
    "\n",
    "$~$"
   ]
  },
  {
   "cell_type": "code",
   "execution_count": 14,
   "id": "cdf02d36",
   "metadata": {
    "ExecuteTime": {
     "end_time": "2022-03-10T14:55:48.984022Z",
     "start_time": "2022-03-10T14:55:48.978416Z"
    }
   },
   "outputs": [],
   "source": [
    "medal_count_sample = df_sample.groupby(\"Country\")[\"Medal\"]\\\n",
    "                    .agg([\"count\"]).sort_values(by=\"count\", ascending=False)"
   ]
  },
  {
   "cell_type": "code",
   "execution_count": 15,
   "id": "dcfad367",
   "metadata": {
    "ExecuteTime": {
     "end_time": "2022-03-10T14:55:48.995288Z",
     "start_time": "2022-03-10T14:55:48.986470Z"
    }
   },
   "outputs": [
    {
     "data": {
      "text/html": [
       "<div>\n",
       "<style scoped>\n",
       "    .dataframe tbody tr th:only-of-type {\n",
       "        vertical-align: middle;\n",
       "    }\n",
       "\n",
       "    .dataframe tbody tr th {\n",
       "        vertical-align: top;\n",
       "    }\n",
       "\n",
       "    .dataframe thead th {\n",
       "        text-align: right;\n",
       "    }\n",
       "</style>\n",
       "<table border=\"1\" class=\"dataframe\">\n",
       "  <thead>\n",
       "    <tr style=\"text-align: right;\">\n",
       "      <th></th>\n",
       "      <th>count</th>\n",
       "    </tr>\n",
       "    <tr>\n",
       "      <th>Country</th>\n",
       "      <th></th>\n",
       "    </tr>\n",
       "  </thead>\n",
       "  <tbody>\n",
       "    <tr>\n",
       "      <th>USA</th>\n",
       "      <td>135</td>\n",
       "    </tr>\n",
       "    <tr>\n",
       "      <th>URS</th>\n",
       "      <td>75</td>\n",
       "    </tr>\n",
       "    <tr>\n",
       "      <th>GBR</th>\n",
       "      <td>57</td>\n",
       "    </tr>\n",
       "    <tr>\n",
       "      <th>ITA</th>\n",
       "      <td>56</td>\n",
       "    </tr>\n",
       "    <tr>\n",
       "      <th>FRA</th>\n",
       "      <td>52</td>\n",
       "    </tr>\n",
       "  </tbody>\n",
       "</table>\n",
       "</div>"
      ],
      "text/plain": [
       "         count\n",
       "Country       \n",
       "USA        135\n",
       "URS         75\n",
       "GBR         57\n",
       "ITA         56\n",
       "FRA         52"
      ]
     },
     "execution_count": 15,
     "metadata": {},
     "output_type": "execute_result"
    }
   ],
   "source": [
    "medal_count_sample.head()"
   ]
  },
  {
   "cell_type": "code",
   "execution_count": 16,
   "id": "6b9f1784",
   "metadata": {
    "ExecuteTime": {
     "end_time": "2022-03-10T14:55:49.002017Z",
     "start_time": "2022-03-10T14:55:48.997821Z"
    }
   },
   "outputs": [],
   "source": [
    "medal_count_sample[\"proportion\"]= medal_count_sample[\"count\"]\\\n",
    "                                / medal_count_sample[\"count\"].sum()"
   ]
  },
  {
   "cell_type": "code",
   "execution_count": 17,
   "id": "1033ec3e",
   "metadata": {
    "ExecuteTime": {
     "end_time": "2022-03-10T14:55:49.013448Z",
     "start_time": "2022-03-10T14:55:49.004616Z"
    }
   },
   "outputs": [
    {
     "data": {
      "text/html": [
       "<div>\n",
       "<style scoped>\n",
       "    .dataframe tbody tr th:only-of-type {\n",
       "        vertical-align: middle;\n",
       "    }\n",
       "\n",
       "    .dataframe tbody tr th {\n",
       "        vertical-align: top;\n",
       "    }\n",
       "\n",
       "    .dataframe thead th {\n",
       "        text-align: right;\n",
       "    }\n",
       "</style>\n",
       "<table border=\"1\" class=\"dataframe\">\n",
       "  <thead>\n",
       "    <tr style=\"text-align: right;\">\n",
       "      <th></th>\n",
       "      <th>count</th>\n",
       "      <th>proportion</th>\n",
       "    </tr>\n",
       "    <tr>\n",
       "      <th>Country</th>\n",
       "      <th></th>\n",
       "      <th></th>\n",
       "    </tr>\n",
       "  </thead>\n",
       "  <tbody>\n",
       "    <tr>\n",
       "      <th>USA</th>\n",
       "      <td>135</td>\n",
       "      <td>0.135</td>\n",
       "    </tr>\n",
       "    <tr>\n",
       "      <th>URS</th>\n",
       "      <td>75</td>\n",
       "      <td>0.075</td>\n",
       "    </tr>\n",
       "    <tr>\n",
       "      <th>GBR</th>\n",
       "      <td>57</td>\n",
       "      <td>0.057</td>\n",
       "    </tr>\n",
       "    <tr>\n",
       "      <th>ITA</th>\n",
       "      <td>56</td>\n",
       "      <td>0.056</td>\n",
       "    </tr>\n",
       "    <tr>\n",
       "      <th>FRA</th>\n",
       "      <td>52</td>\n",
       "      <td>0.052</td>\n",
       "    </tr>\n",
       "  </tbody>\n",
       "</table>\n",
       "</div>"
      ],
      "text/plain": [
       "         count  proportion\n",
       "Country                   \n",
       "USA        135       0.135\n",
       "URS         75       0.075\n",
       "GBR         57       0.057\n",
       "ITA         56       0.056\n",
       "FRA         52       0.052"
      ]
     },
     "execution_count": 17,
     "metadata": {},
     "output_type": "execute_result"
    }
   ],
   "source": [
    "medal_count_sample.head()"
   ]
  },
  {
   "cell_type": "code",
   "execution_count": 18,
   "id": "7333844a",
   "metadata": {
    "ExecuteTime": {
     "end_time": "2022-03-10T14:55:49.032829Z",
     "start_time": "2022-03-10T14:55:49.015984Z"
    }
   },
   "outputs": [
    {
     "data": {
      "text/html": [
       "<div>\n",
       "<style scoped>\n",
       "    .dataframe tbody tr th:only-of-type {\n",
       "        vertical-align: middle;\n",
       "    }\n",
       "\n",
       "    .dataframe tbody tr th {\n",
       "        vertical-align: top;\n",
       "    }\n",
       "\n",
       "    .dataframe thead th {\n",
       "        text-align: right;\n",
       "    }\n",
       "</style>\n",
       "<table border=\"1\" class=\"dataframe\">\n",
       "  <thead>\n",
       "    <tr style=\"text-align: right;\">\n",
       "      <th></th>\n",
       "      <th>count_total</th>\n",
       "      <th>proportion_total</th>\n",
       "      <th>count_sample</th>\n",
       "      <th>proportion_sample</th>\n",
       "    </tr>\n",
       "    <tr>\n",
       "      <th>Country</th>\n",
       "      <th></th>\n",
       "      <th></th>\n",
       "      <th></th>\n",
       "      <th></th>\n",
       "    </tr>\n",
       "  </thead>\n",
       "  <tbody>\n",
       "    <tr>\n",
       "      <th>USA</th>\n",
       "      <td>4585</td>\n",
       "      <td>0.147139</td>\n",
       "      <td>135</td>\n",
       "      <td>0.135</td>\n",
       "    </tr>\n",
       "    <tr>\n",
       "      <th>URS</th>\n",
       "      <td>2049</td>\n",
       "      <td>0.065755</td>\n",
       "      <td>75</td>\n",
       "      <td>0.075</td>\n",
       "    </tr>\n",
       "    <tr>\n",
       "      <th>GBR</th>\n",
       "      <td>1720</td>\n",
       "      <td>0.055197</td>\n",
       "      <td>57</td>\n",
       "      <td>0.057</td>\n",
       "    </tr>\n",
       "    <tr>\n",
       "      <th>FRA</th>\n",
       "      <td>1396</td>\n",
       "      <td>0.044800</td>\n",
       "      <td>52</td>\n",
       "      <td>0.052</td>\n",
       "    </tr>\n",
       "    <tr>\n",
       "      <th>GER</th>\n",
       "      <td>1305</td>\n",
       "      <td>0.041879</td>\n",
       "      <td>41</td>\n",
       "      <td>0.041</td>\n",
       "    </tr>\n",
       "    <tr>\n",
       "      <th>ITA</th>\n",
       "      <td>1296</td>\n",
       "      <td>0.041590</td>\n",
       "      <td>56</td>\n",
       "      <td>0.056</td>\n",
       "    </tr>\n",
       "    <tr>\n",
       "      <th>AUS</th>\n",
       "      <td>1189</td>\n",
       "      <td>0.038157</td>\n",
       "      <td>38</td>\n",
       "      <td>0.038</td>\n",
       "    </tr>\n",
       "    <tr>\n",
       "      <th>HUN</th>\n",
       "      <td>1079</td>\n",
       "      <td>0.034627</td>\n",
       "      <td>38</td>\n",
       "      <td>0.038</td>\n",
       "    </tr>\n",
       "    <tr>\n",
       "      <th>SWE</th>\n",
       "      <td>1044</td>\n",
       "      <td>0.033503</td>\n",
       "      <td>30</td>\n",
       "      <td>0.030</td>\n",
       "    </tr>\n",
       "    <tr>\n",
       "      <th>NED</th>\n",
       "      <td>851</td>\n",
       "      <td>0.027310</td>\n",
       "      <td>31</td>\n",
       "      <td>0.031</td>\n",
       "    </tr>\n",
       "    <tr>\n",
       "      <th>GDR</th>\n",
       "      <td>825</td>\n",
       "      <td>0.026475</td>\n",
       "      <td>16</td>\n",
       "      <td>0.016</td>\n",
       "    </tr>\n",
       "    <tr>\n",
       "      <th>CHN</th>\n",
       "      <td>807</td>\n",
       "      <td>0.025898</td>\n",
       "      <td>23</td>\n",
       "      <td>0.023</td>\n",
       "    </tr>\n",
       "    <tr>\n",
       "      <th>JPN</th>\n",
       "      <td>788</td>\n",
       "      <td>0.025288</td>\n",
       "      <td>29</td>\n",
       "      <td>0.029</td>\n",
       "    </tr>\n",
       "    <tr>\n",
       "      <th>RUS</th>\n",
       "      <td>768</td>\n",
       "      <td>0.024646</td>\n",
       "      <td>34</td>\n",
       "      <td>0.034</td>\n",
       "    </tr>\n",
       "    <tr>\n",
       "      <th>CAN</th>\n",
       "      <td>649</td>\n",
       "      <td>0.020827</td>\n",
       "      <td>20</td>\n",
       "      <td>0.020</td>\n",
       "    </tr>\n",
       "    <tr>\n",
       "      <th>ROU</th>\n",
       "      <td>640</td>\n",
       "      <td>0.020538</td>\n",
       "      <td>16</td>\n",
       "      <td>0.016</td>\n",
       "    </tr>\n",
       "    <tr>\n",
       "      <th>NOR</th>\n",
       "      <td>554</td>\n",
       "      <td>0.017779</td>\n",
       "      <td>17</td>\n",
       "      <td>0.017</td>\n",
       "    </tr>\n",
       "    <tr>\n",
       "      <th>KOR</th>\n",
       "      <td>529</td>\n",
       "      <td>0.016976</td>\n",
       "      <td>18</td>\n",
       "      <td>0.018</td>\n",
       "    </tr>\n",
       "    <tr>\n",
       "      <th>POL</th>\n",
       "      <td>511</td>\n",
       "      <td>0.016399</td>\n",
       "      <td>12</td>\n",
       "      <td>0.012</td>\n",
       "    </tr>\n",
       "    <tr>\n",
       "      <th>DEN</th>\n",
       "      <td>507</td>\n",
       "      <td>0.016270</td>\n",
       "      <td>17</td>\n",
       "      <td>0.017</td>\n",
       "    </tr>\n",
       "  </tbody>\n",
       "</table>\n",
       "</div>"
      ],
      "text/plain": [
       "         count_total  proportion_total  count_sample  proportion_sample\n",
       "Country                                                                \n",
       "USA             4585          0.147139           135              0.135\n",
       "URS             2049          0.065755            75              0.075\n",
       "GBR             1720          0.055197            57              0.057\n",
       "FRA             1396          0.044800            52              0.052\n",
       "GER             1305          0.041879            41              0.041\n",
       "ITA             1296          0.041590            56              0.056\n",
       "AUS             1189          0.038157            38              0.038\n",
       "HUN             1079          0.034627            38              0.038\n",
       "SWE             1044          0.033503            30              0.030\n",
       "NED              851          0.027310            31              0.031\n",
       "GDR              825          0.026475            16              0.016\n",
       "CHN              807          0.025898            23              0.023\n",
       "JPN              788          0.025288            29              0.029\n",
       "RUS              768          0.024646            34              0.034\n",
       "CAN              649          0.020827            20              0.020\n",
       "ROU              640          0.020538            16              0.016\n",
       "NOR              554          0.017779            17              0.017\n",
       "KOR              529          0.016976            18              0.018\n",
       "POL              511          0.016399            12              0.012\n",
       "DEN              507          0.016270            17              0.017"
      ]
     },
     "execution_count": 18,
     "metadata": {},
     "output_type": "execute_result"
    }
   ],
   "source": [
    "medal_count.merge(medal_count_sample, left_on='Country', right_on='Country', \n",
    "                  suffixes=('_total', '_sample')).head(20)\n"
   ]
  },
  {
   "cell_type": "markdown",
   "id": "85592168",
   "metadata": {},
   "source": [
    "$~$\n",
    "\n",
    "##### total populations vs simple sample\n",
    "\n",
    "$~$\n",
    "\n",
    "As can be seen in the table above, the simple sample benefits the countries that have more medals, but disadvantages the countries with fewer medals. This can be a problem if we work with data with subgroups.\n",
    "\n",
    "$~$"
   ]
  },
  {
   "cell_type": "markdown",
   "id": "ea9aa000",
   "metadata": {},
   "source": [
    "$~$\n",
    "\n",
    "##### graphic point of view: total populations vs simple sample\n",
    "\n",
    "$~$\n",
    "\n",
    "A quick way to see what our sampling is like is to make some plots. Let's see some:\n",
    "\n",
    "$~$"
   ]
  },
  {
   "cell_type": "code",
   "execution_count": 19,
   "id": "9116efe9",
   "metadata": {
    "ExecuteTime": {
     "end_time": "2022-03-10T14:55:49.324184Z",
     "start_time": "2022-03-10T14:55:49.035219Z"
    }
   },
   "outputs": [
    {
     "data": {
      "image/png": "[encoded data removed]",
      "text/plain": [
       "<Figure size 720x360 with 2 Axes>"
      ]
     },
     "metadata": {
      "needs_background": "light"
     },
     "output_type": "display_data"
    }
   ],
   "source": [
    "fig,axes = plt.subplots(1,2, figsize=(10,5))\n",
    "\n",
    "\n",
    "\n",
    "sns.kdeplot(medal_count[\"proportion\"],bw_method=.10, shade=True,ax=axes[0])\n",
    "\n",
    "axes[0].spines['top'].set_visible(False)\n",
    "axes[0].spines['right'].set_visible(False)\n",
    "axes[0].set_title(\"fig 1. Distribution of total medal by country (population) \",fontsize=8)\n",
    "\n",
    "\n",
    "sns.kdeplot(medal_count_sample[\"proportion\"],bw_method=.10, shade=True,ax=axes[1])\n",
    "axes[1].set_title(\"fig 2. Distribution of total medal by country(simple random sample)\",fontsize=8)\n",
    "\n",
    "axes[1].spines['top'].set_visible(False)\n",
    "axes[1].spines['right'].set_visible(False)\n",
    "\n",
    "plt.show()"
   ]
  },
  {
   "cell_type": "markdown",
   "id": "efe039f9",
   "metadata": {},
   "source": [
    "\n",
    "$~$\n",
    "\n",
    "we can also see the effect of sampling in a Treemaps of the distribution\n",
    "\n",
    "$~$\n",
    "\n"
   ]
  },
  {
   "cell_type": "code",
   "execution_count": 20,
   "id": "28c3d73c",
   "metadata": {
    "ExecuteTime": {
     "end_time": "2022-03-10T14:55:49.935747Z",
     "start_time": "2022-03-10T14:55:49.326965Z"
    }
   },
   "outputs": [
    {
     "data": {
      "image/png": "[encoded data removed]",
      "text/plain": [
       "<Figure size 1152x324 with 1 Axes>"
      ]
     },
     "metadata": {
      "needs_background": "light"
     },
     "output_type": "display_data"
    }
   ],
   "source": [
    "medal_count_plot = medal_count[medal_count[\"count\"] > 20]\n",
    "\n",
    "normdata = mpl.colors.Normalize(min(medal_count_plot[\"count\"].values\n",
    "), max(medal_count_plot[\"count\"].values\n",
    "))  \n",
    "colormap = mpl.cm.Blues #this line allows us to change the colors\n",
    "colors =colormap(normdata(medal_count_plot[\"count\"].values\n",
    "))\n",
    "\n",
    "\n",
    "fig = plt.gcf()\n",
    "ax = fig.add_subplot()\n",
    "fig.set_size_inches(16, 4.5)\n",
    "\n",
    "squarify.plot(sizes=medal_count_plot[\"count\"].values\n",
    ", alpha=0.8, label=medal_count_plot.index,color = colors,\n",
    "              text_kwargs={'fontsize':10, 'fontname':\"helvetica\",'weight':'bold'})\n",
    "plt.title(\"Total medals distribution\",fontsize=23,fontweight=\"bold\")\n",
    "plt.axis('off')\n",
    "plt.tight_layout()\n",
    "\n",
    "plt.show()\n",
    "\n"
   ]
  },
  {
   "cell_type": "code",
   "execution_count": 21,
   "id": "24efb00b",
   "metadata": {
    "ExecuteTime": {
     "end_time": "2022-03-10T14:55:50.085973Z",
     "start_time": "2022-03-10T14:55:49.939976Z"
    },
    "scrolled": false
   },
   "outputs": [
    {
     "data": {
      "image/png": "[encoded data removed]",
      "text/plain": [
       "<Figure size 1152x324 with 1 Axes>"
      ]
     },
     "metadata": {
      "needs_background": "light"
     },
     "output_type": "display_data"
    }
   ],
   "source": [
    "medal_count_sample_plot = medal_count_sample[medal_count_sample[\"count\"] > 20]\n",
    "\n",
    "normdata = mpl.colors.Normalize(min(medal_count_sample_plot[\"count\"].values\n",
    "), max(medal_count_sample_plot[\"count\"].values\n",
    "))  \n",
    "colormap = mpl.cm.Blues #this line allows us to change the colors\n",
    "colors =colormap(normdata(medal_count_sample_plot[\"count\"].values\n",
    "))\n",
    "\n",
    "\n",
    "fig = plt.gcf()\n",
    "ax = fig.add_subplot()\n",
    "fig.set_size_inches(16, 4.5)\n",
    "\n",
    "squarify.plot(sizes=medal_count_sample_plot[\"count\"].values\n",
    ", alpha=0.8, label=medal_count_sample_plot.index,color = colors,\n",
    "              text_kwargs={'fontsize':10, 'fontname':\"helvetica\",'weight':'bold'})\n",
    "plt.title(\"Total medals distribution(simple sample)\",fontsize=23,fontweight=\"bold\")\n",
    "plt.axis('off')\n",
    "plt.tight_layout()\n",
    "\n",
    "plt.show()"
   ]
  },
  {
   "cell_type": "markdown",
   "id": "8a556782",
   "metadata": {},
   "source": [
    "___\n",
    "$~$\n",
    "\n",
    "\n",
    "####  Systematic Sample\n",
    "\n",
    "$~$\n",
    "___\n",
    "\n",
    "\n",
    "The first thing we will do is define the interval:\n",
    "\n",
    "$~$"
   ]
  },
  {
   "cell_type": "code",
   "execution_count": 22,
   "id": "b37b7426",
   "metadata": {
    "ExecuteTime": {
     "end_time": "2022-03-10T14:55:50.092203Z",
     "start_time": "2022-03-10T14:55:50.088422Z"
    }
   },
   "outputs": [],
   "source": [
    "sample_size= 1000\n",
    "\n",
    "pop_size = len(df)\n",
    "\n",
    "interval = pop_size // sample_size\n"
   ]
  },
  {
   "cell_type": "markdown",
   "id": "00baa635",
   "metadata": {},
   "source": [
    "$~$\n",
    "\n",
    "let's randomly shuffle the rows and reset the index in case there is a built-in order that could bias the results.\n",
    "\n",
    "$~$"
   ]
  },
  {
   "cell_type": "code",
   "execution_count": 23,
   "id": "eb470f40",
   "metadata": {
    "ExecuteTime": {
     "end_time": "2022-03-10T14:55:50.119342Z",
     "start_time": "2022-03-10T14:55:50.095843Z"
    }
   },
   "outputs": [
    {
     "data": {
      "text/html": [
       "<div>\n",
       "<style scoped>\n",
       "    .dataframe tbody tr th:only-of-type {\n",
       "        vertical-align: middle;\n",
       "    }\n",
       "\n",
       "    .dataframe tbody tr th {\n",
       "        vertical-align: top;\n",
       "    }\n",
       "\n",
       "    .dataframe thead th {\n",
       "        text-align: right;\n",
       "    }\n",
       "</style>\n",
       "<table border=\"1\" class=\"dataframe\">\n",
       "  <thead>\n",
       "    <tr style=\"text-align: right;\">\n",
       "      <th></th>\n",
       "      <th>Year</th>\n",
       "      <th>City</th>\n",
       "      <th>Sport</th>\n",
       "      <th>Discipline</th>\n",
       "      <th>Athlete</th>\n",
       "      <th>Country</th>\n",
       "      <th>Gender</th>\n",
       "      <th>Event</th>\n",
       "      <th>Medal</th>\n",
       "    </tr>\n",
       "  </thead>\n",
       "  <tbody>\n",
       "    <tr>\n",
       "      <th>0</th>\n",
       "      <td>2012</td>\n",
       "      <td>London</td>\n",
       "      <td>Wrestling</td>\n",
       "      <td>Wrestling Freestyle</td>\n",
       "      <td>EBRAHIM, Karam Mohamed Gaber</td>\n",
       "      <td>EGY</td>\n",
       "      <td>Men</td>\n",
       "      <td>Wg 84 KG</td>\n",
       "      <td>Silver</td>\n",
       "    </tr>\n",
       "    <tr>\n",
       "      <th>1</th>\n",
       "      <td>1924</td>\n",
       "      <td>Paris</td>\n",
       "      <td>Football</td>\n",
       "      <td>Football</td>\n",
       "      <td>SOMMA, P.</td>\n",
       "      <td>URU</td>\n",
       "      <td>Men</td>\n",
       "      <td>Football</td>\n",
       "      <td>Gold</td>\n",
       "    </tr>\n",
       "    <tr>\n",
       "      <th>2</th>\n",
       "      <td>1988</td>\n",
       "      <td>Seoul</td>\n",
       "      <td>Handball</td>\n",
       "      <td>Handball</td>\n",
       "      <td>TURCHINA, Zinaida</td>\n",
       "      <td>URS</td>\n",
       "      <td>Women</td>\n",
       "      <td>Handball</td>\n",
       "      <td>Bronze</td>\n",
       "    </tr>\n",
       "    <tr>\n",
       "      <th>3</th>\n",
       "      <td>2004</td>\n",
       "      <td>Athens</td>\n",
       "      <td>Handball</td>\n",
       "      <td>Handball</td>\n",
       "      <td>BROEDSGAARD, Karen</td>\n",
       "      <td>DEN</td>\n",
       "      <td>Women</td>\n",
       "      <td>Handball</td>\n",
       "      <td>Gold</td>\n",
       "    </tr>\n",
       "    <tr>\n",
       "      <th>4</th>\n",
       "      <td>1996</td>\n",
       "      <td>Atlanta</td>\n",
       "      <td>Aquatics</td>\n",
       "      <td>Swimming</td>\n",
       "      <td>HAN, Xue</td>\n",
       "      <td>CHN</td>\n",
       "      <td>Women</td>\n",
       "      <td>4X100M Medley Relay</td>\n",
       "      <td>Bronze</td>\n",
       "    </tr>\n",
       "  </tbody>\n",
       "</table>\n",
       "</div>"
      ],
      "text/plain": [
       "   Year     City      Sport           Discipline  \\\n",
       "0  2012   London  Wrestling  Wrestling Freestyle   \n",
       "1  1924    Paris   Football             Football   \n",
       "2  1988    Seoul   Handball             Handball   \n",
       "3  2004   Athens   Handball             Handball   \n",
       "4  1996  Atlanta   Aquatics             Swimming   \n",
       "\n",
       "                        Athlete Country Gender                Event   Medal  \n",
       "0  EBRAHIM, Karam Mohamed Gaber     EGY    Men             Wg 84 KG  Silver  \n",
       "1                     SOMMA, P.     URU    Men             Football    Gold  \n",
       "2             TURCHINA, Zinaida     URS  Women             Handball  Bronze  \n",
       "3            BROEDSGAARD, Karen     DEN  Women             Handball    Gold  \n",
       "4                      HAN, Xue     CHN  Women  4X100M Medley Relay  Bronze  "
      ]
     },
     "execution_count": 23,
     "metadata": {},
     "output_type": "execute_result"
    }
   ],
   "source": [
    "shuffled= df.sample(frac=1,ignore_index=True)\n",
    "shuffled.head()"
   ]
  },
  {
   "cell_type": "code",
   "execution_count": 24,
   "id": "a43bc8aa",
   "metadata": {
    "ExecuteTime": {
     "end_time": "2022-03-10T14:55:50.131428Z",
     "start_time": "2022-03-10T14:55:50.121977Z"
    }
   },
   "outputs": [],
   "source": [
    "sys_sample = shuffled.iloc[::interval].reset_index(drop=True)\n"
   ]
  },
  {
   "cell_type": "code",
   "execution_count": 25,
   "id": "d8d99c99",
   "metadata": {
    "ExecuteTime": {
     "end_time": "2022-03-10T14:55:50.151669Z",
     "start_time": "2022-03-10T14:55:50.135017Z"
    },
    "scrolled": true
   },
   "outputs": [
    {
     "data": {
      "text/html": [
       "<div>\n",
       "<style scoped>\n",
       "    .dataframe tbody tr th:only-of-type {\n",
       "        vertical-align: middle;\n",
       "    }\n",
       "\n",
       "    .dataframe tbody tr th {\n",
       "        vertical-align: top;\n",
       "    }\n",
       "\n",
       "    .dataframe thead th {\n",
       "        text-align: right;\n",
       "    }\n",
       "</style>\n",
       "<table border=\"1\" class=\"dataframe\">\n",
       "  <thead>\n",
       "    <tr style=\"text-align: right;\">\n",
       "      <th></th>\n",
       "      <th>Year</th>\n",
       "      <th>City</th>\n",
       "      <th>Sport</th>\n",
       "      <th>Discipline</th>\n",
       "      <th>Athlete</th>\n",
       "      <th>Country</th>\n",
       "      <th>Gender</th>\n",
       "      <th>Event</th>\n",
       "      <th>Medal</th>\n",
       "    </tr>\n",
       "  </thead>\n",
       "  <tbody>\n",
       "    <tr>\n",
       "      <th>0</th>\n",
       "      <td>2012</td>\n",
       "      <td>London</td>\n",
       "      <td>Wrestling</td>\n",
       "      <td>Wrestling Freestyle</td>\n",
       "      <td>EBRAHIM, Karam Mohamed Gaber</td>\n",
       "      <td>EGY</td>\n",
       "      <td>Men</td>\n",
       "      <td>Wg 84 KG</td>\n",
       "      <td>Silver</td>\n",
       "    </tr>\n",
       "    <tr>\n",
       "      <th>1</th>\n",
       "      <td>1928</td>\n",
       "      <td>Amsterdam</td>\n",
       "      <td>Football</td>\n",
       "      <td>Football</td>\n",
       "      <td>BOSIO, Angel</td>\n",
       "      <td>ARG</td>\n",
       "      <td>Men</td>\n",
       "      <td>Football</td>\n",
       "      <td>Silver</td>\n",
       "    </tr>\n",
       "    <tr>\n",
       "      <th>2</th>\n",
       "      <td>2012</td>\n",
       "      <td>London</td>\n",
       "      <td>Aquatics</td>\n",
       "      <td>Water Polo</td>\n",
       "      <td>SMITH, Sophie</td>\n",
       "      <td>AUS</td>\n",
       "      <td>Women</td>\n",
       "      <td>Water Polo</td>\n",
       "      <td>Bronze</td>\n",
       "    </tr>\n",
       "    <tr>\n",
       "      <th>3</th>\n",
       "      <td>1996</td>\n",
       "      <td>Atlanta</td>\n",
       "      <td>Handball</td>\n",
       "      <td>Handball</td>\n",
       "      <td>MATYAS, Auguszta</td>\n",
       "      <td>HUN</td>\n",
       "      <td>Women</td>\n",
       "      <td>Handball</td>\n",
       "      <td>Bronze</td>\n",
       "    </tr>\n",
       "    <tr>\n",
       "      <th>4</th>\n",
       "      <td>1988</td>\n",
       "      <td>Seoul</td>\n",
       "      <td>Gymnastics</td>\n",
       "      <td>Artistic G.</td>\n",
       "      <td>LIOUKINE, Valeri</td>\n",
       "      <td>URS</td>\n",
       "      <td>Men</td>\n",
       "      <td>Parallel Bars</td>\n",
       "      <td>Silver</td>\n",
       "    </tr>\n",
       "  </tbody>\n",
       "</table>\n",
       "</div>"
      ],
      "text/plain": [
       "   Year       City       Sport           Discipline  \\\n",
       "0  2012     London   Wrestling  Wrestling Freestyle   \n",
       "1  1928  Amsterdam    Football             Football   \n",
       "2  2012     London    Aquatics           Water Polo   \n",
       "3  1996    Atlanta    Handball             Handball   \n",
       "4  1988      Seoul  Gymnastics          Artistic G.   \n",
       "\n",
       "                        Athlete Country Gender          Event   Medal  \n",
       "0  EBRAHIM, Karam Mohamed Gaber     EGY    Men       Wg 84 KG  Silver  \n",
       "1                  BOSIO, Angel     ARG    Men       Football  Silver  \n",
       "2                 SMITH, Sophie     AUS  Women     Water Polo  Bronze  \n",
       "3              MATYAS, Auguszta     HUN  Women       Handball  Bronze  \n",
       "4              LIOUKINE, Valeri     URS    Men  Parallel Bars  Silver  "
      ]
     },
     "execution_count": 25,
     "metadata": {},
     "output_type": "execute_result"
    }
   ],
   "source": [
    "sys_sample.head()"
   ]
  },
  {
   "cell_type": "markdown",
   "id": "e65a399a",
   "metadata": {},
   "source": [
    "\n",
    "##### working on the dataset\n",
    "\n",
    "\n",
    "$~$\n",
    "\n",
    "once we have the systematic sample, let's work a little with the data so we can make comparisons. \n",
    "\n",
    "$~$"
   ]
  },
  {
   "cell_type": "code",
   "execution_count": 26,
   "id": "33b9bdc1",
   "metadata": {
    "ExecuteTime": {
     "end_time": "2022-03-10T14:55:50.173561Z",
     "start_time": "2022-03-10T14:55:50.154355Z"
    }
   },
   "outputs": [
    {
     "data": {
      "text/html": [
       "<div>\n",
       "<style scoped>\n",
       "    .dataframe tbody tr th:only-of-type {\n",
       "        vertical-align: middle;\n",
       "    }\n",
       "\n",
       "    .dataframe tbody tr th {\n",
       "        vertical-align: top;\n",
       "    }\n",
       "\n",
       "    .dataframe thead th {\n",
       "        text-align: right;\n",
       "    }\n",
       "</style>\n",
       "<table border=\"1\" class=\"dataframe\">\n",
       "  <thead>\n",
       "    <tr style=\"text-align: right;\">\n",
       "      <th></th>\n",
       "      <th>count</th>\n",
       "      <th>proportion</th>\n",
       "    </tr>\n",
       "    <tr>\n",
       "      <th>Country</th>\n",
       "      <th></th>\n",
       "      <th></th>\n",
       "    </tr>\n",
       "  </thead>\n",
       "  <tbody>\n",
       "    <tr>\n",
       "      <th>USA</th>\n",
       "      <td>150</td>\n",
       "      <td>0.149105</td>\n",
       "    </tr>\n",
       "    <tr>\n",
       "      <th>GBR</th>\n",
       "      <td>75</td>\n",
       "      <td>0.074553</td>\n",
       "    </tr>\n",
       "    <tr>\n",
       "      <th>URS</th>\n",
       "      <td>47</td>\n",
       "      <td>0.046720</td>\n",
       "    </tr>\n",
       "    <tr>\n",
       "      <th>AUS</th>\n",
       "      <td>47</td>\n",
       "      <td>0.046720</td>\n",
       "    </tr>\n",
       "    <tr>\n",
       "      <th>ITA</th>\n",
       "      <td>47</td>\n",
       "      <td>0.046720</td>\n",
       "    </tr>\n",
       "    <tr>\n",
       "      <th>GER</th>\n",
       "      <td>44</td>\n",
       "      <td>0.043738</td>\n",
       "    </tr>\n",
       "    <tr>\n",
       "      <th>HUN</th>\n",
       "      <td>36</td>\n",
       "      <td>0.035785</td>\n",
       "    </tr>\n",
       "    <tr>\n",
       "      <th>JPN</th>\n",
       "      <td>32</td>\n",
       "      <td>0.031809</td>\n",
       "    </tr>\n",
       "    <tr>\n",
       "      <th>SWE</th>\n",
       "      <td>32</td>\n",
       "      <td>0.031809</td>\n",
       "    </tr>\n",
       "    <tr>\n",
       "      <th>FRA</th>\n",
       "      <td>32</td>\n",
       "      <td>0.031809</td>\n",
       "    </tr>\n",
       "    <tr>\n",
       "      <th>NED</th>\n",
       "      <td>30</td>\n",
       "      <td>0.029821</td>\n",
       "    </tr>\n",
       "    <tr>\n",
       "      <th>GDR</th>\n",
       "      <td>26</td>\n",
       "      <td>0.025845</td>\n",
       "    </tr>\n",
       "    <tr>\n",
       "      <th>CHN</th>\n",
       "      <td>24</td>\n",
       "      <td>0.023857</td>\n",
       "    </tr>\n",
       "    <tr>\n",
       "      <th>FRG</th>\n",
       "      <td>21</td>\n",
       "      <td>0.020875</td>\n",
       "    </tr>\n",
       "    <tr>\n",
       "      <th>RUS</th>\n",
       "      <td>21</td>\n",
       "      <td>0.020875</td>\n",
       "    </tr>\n",
       "    <tr>\n",
       "      <th>POL</th>\n",
       "      <td>20</td>\n",
       "      <td>0.019881</td>\n",
       "    </tr>\n",
       "    <tr>\n",
       "      <th>KOR</th>\n",
       "      <td>18</td>\n",
       "      <td>0.017893</td>\n",
       "    </tr>\n",
       "    <tr>\n",
       "      <th>BRA</th>\n",
       "      <td>18</td>\n",
       "      <td>0.017893</td>\n",
       "    </tr>\n",
       "    <tr>\n",
       "      <th>ROU</th>\n",
       "      <td>17</td>\n",
       "      <td>0.016899</td>\n",
       "    </tr>\n",
       "    <tr>\n",
       "      <th>FIN</th>\n",
       "      <td>17</td>\n",
       "      <td>0.016899</td>\n",
       "    </tr>\n",
       "  </tbody>\n",
       "</table>\n",
       "</div>"
      ],
      "text/plain": [
       "         count  proportion\n",
       "Country                   \n",
       "USA        150    0.149105\n",
       "GBR         75    0.074553\n",
       "URS         47    0.046720\n",
       "AUS         47    0.046720\n",
       "ITA         47    0.046720\n",
       "GER         44    0.043738\n",
       "HUN         36    0.035785\n",
       "JPN         32    0.031809\n",
       "SWE         32    0.031809\n",
       "FRA         32    0.031809\n",
       "NED         30    0.029821\n",
       "GDR         26    0.025845\n",
       "CHN         24    0.023857\n",
       "FRG         21    0.020875\n",
       "RUS         21    0.020875\n",
       "POL         20    0.019881\n",
       "KOR         18    0.017893\n",
       "BRA         18    0.017893\n",
       "ROU         17    0.016899\n",
       "FIN         17    0.016899"
      ]
     },
     "execution_count": 26,
     "metadata": {},
     "output_type": "execute_result"
    }
   ],
   "source": [
    "medal_count_sys_sample = sys_sample.groupby(\"Country\")[\"Medal\"]\\\n",
    "                    .agg([\"count\"]).sort_values(by=\"count\", ascending=False)\n",
    "\n",
    "medal_count_sys_sample[\"proportion\"]= medal_count_sys_sample[\"count\"]\\\n",
    "                                / medal_count_sys_sample[\"count\"].sum()\n",
    "\n",
    "medal_count_sys_sample.head(20)"
   ]
  },
  {
   "cell_type": "markdown",
   "id": "42f6390a",
   "metadata": {},
   "source": [
    "\n",
    "##### compare population vs systematic sample\n",
    "\n",
    "_____\n",
    "$~$\n",
    "\n",
    "now we can compare our population with the systematic sample\n",
    "\n",
    "$~$"
   ]
  },
  {
   "cell_type": "code",
   "execution_count": 27,
   "id": "e1996cad",
   "metadata": {
    "ExecuteTime": {
     "end_time": "2022-03-10T14:55:50.193308Z",
     "start_time": "2022-03-10T14:55:50.176185Z"
    }
   },
   "outputs": [
    {
     "data": {
      "text/html": [
       "<div>\n",
       "<style scoped>\n",
       "    .dataframe tbody tr th:only-of-type {\n",
       "        vertical-align: middle;\n",
       "    }\n",
       "\n",
       "    .dataframe tbody tr th {\n",
       "        vertical-align: top;\n",
       "    }\n",
       "\n",
       "    .dataframe thead th {\n",
       "        text-align: right;\n",
       "    }\n",
       "</style>\n",
       "<table border=\"1\" class=\"dataframe\">\n",
       "  <thead>\n",
       "    <tr style=\"text-align: right;\">\n",
       "      <th></th>\n",
       "      <th>count_total</th>\n",
       "      <th>proportion_total</th>\n",
       "      <th>count_sys_sample</th>\n",
       "      <th>proportion_sys_sample</th>\n",
       "    </tr>\n",
       "    <tr>\n",
       "      <th>Country</th>\n",
       "      <th></th>\n",
       "      <th></th>\n",
       "      <th></th>\n",
       "      <th></th>\n",
       "    </tr>\n",
       "  </thead>\n",
       "  <tbody>\n",
       "    <tr>\n",
       "      <th>USA</th>\n",
       "      <td>4585</td>\n",
       "      <td>0.147139</td>\n",
       "      <td>150</td>\n",
       "      <td>0.149105</td>\n",
       "    </tr>\n",
       "    <tr>\n",
       "      <th>URS</th>\n",
       "      <td>2049</td>\n",
       "      <td>0.065755</td>\n",
       "      <td>47</td>\n",
       "      <td>0.046720</td>\n",
       "    </tr>\n",
       "    <tr>\n",
       "      <th>GBR</th>\n",
       "      <td>1720</td>\n",
       "      <td>0.055197</td>\n",
       "      <td>75</td>\n",
       "      <td>0.074553</td>\n",
       "    </tr>\n",
       "    <tr>\n",
       "      <th>FRA</th>\n",
       "      <td>1396</td>\n",
       "      <td>0.044800</td>\n",
       "      <td>32</td>\n",
       "      <td>0.031809</td>\n",
       "    </tr>\n",
       "    <tr>\n",
       "      <th>GER</th>\n",
       "      <td>1305</td>\n",
       "      <td>0.041879</td>\n",
       "      <td>44</td>\n",
       "      <td>0.043738</td>\n",
       "    </tr>\n",
       "    <tr>\n",
       "      <th>ITA</th>\n",
       "      <td>1296</td>\n",
       "      <td>0.041590</td>\n",
       "      <td>47</td>\n",
       "      <td>0.046720</td>\n",
       "    </tr>\n",
       "    <tr>\n",
       "      <th>AUS</th>\n",
       "      <td>1189</td>\n",
       "      <td>0.038157</td>\n",
       "      <td>47</td>\n",
       "      <td>0.046720</td>\n",
       "    </tr>\n",
       "    <tr>\n",
       "      <th>HUN</th>\n",
       "      <td>1079</td>\n",
       "      <td>0.034627</td>\n",
       "      <td>36</td>\n",
       "      <td>0.035785</td>\n",
       "    </tr>\n",
       "    <tr>\n",
       "      <th>SWE</th>\n",
       "      <td>1044</td>\n",
       "      <td>0.033503</td>\n",
       "      <td>32</td>\n",
       "      <td>0.031809</td>\n",
       "    </tr>\n",
       "    <tr>\n",
       "      <th>NED</th>\n",
       "      <td>851</td>\n",
       "      <td>0.027310</td>\n",
       "      <td>30</td>\n",
       "      <td>0.029821</td>\n",
       "    </tr>\n",
       "    <tr>\n",
       "      <th>GDR</th>\n",
       "      <td>825</td>\n",
       "      <td>0.026475</td>\n",
       "      <td>26</td>\n",
       "      <td>0.025845</td>\n",
       "    </tr>\n",
       "    <tr>\n",
       "      <th>CHN</th>\n",
       "      <td>807</td>\n",
       "      <td>0.025898</td>\n",
       "      <td>24</td>\n",
       "      <td>0.023857</td>\n",
       "    </tr>\n",
       "    <tr>\n",
       "      <th>JPN</th>\n",
       "      <td>788</td>\n",
       "      <td>0.025288</td>\n",
       "      <td>32</td>\n",
       "      <td>0.031809</td>\n",
       "    </tr>\n",
       "    <tr>\n",
       "      <th>RUS</th>\n",
       "      <td>768</td>\n",
       "      <td>0.024646</td>\n",
       "      <td>21</td>\n",
       "      <td>0.020875</td>\n",
       "    </tr>\n",
       "    <tr>\n",
       "      <th>CAN</th>\n",
       "      <td>649</td>\n",
       "      <td>0.020827</td>\n",
       "      <td>17</td>\n",
       "      <td>0.016899</td>\n",
       "    </tr>\n",
       "    <tr>\n",
       "      <th>ROU</th>\n",
       "      <td>640</td>\n",
       "      <td>0.020538</td>\n",
       "      <td>17</td>\n",
       "      <td>0.016899</td>\n",
       "    </tr>\n",
       "    <tr>\n",
       "      <th>NOR</th>\n",
       "      <td>554</td>\n",
       "      <td>0.017779</td>\n",
       "      <td>13</td>\n",
       "      <td>0.012922</td>\n",
       "    </tr>\n",
       "    <tr>\n",
       "      <th>KOR</th>\n",
       "      <td>529</td>\n",
       "      <td>0.016976</td>\n",
       "      <td>18</td>\n",
       "      <td>0.017893</td>\n",
       "    </tr>\n",
       "    <tr>\n",
       "      <th>POL</th>\n",
       "      <td>511</td>\n",
       "      <td>0.016399</td>\n",
       "      <td>20</td>\n",
       "      <td>0.019881</td>\n",
       "    </tr>\n",
       "    <tr>\n",
       "      <th>DEN</th>\n",
       "      <td>507</td>\n",
       "      <td>0.016270</td>\n",
       "      <td>15</td>\n",
       "      <td>0.014911</td>\n",
       "    </tr>\n",
       "  </tbody>\n",
       "</table>\n",
       "</div>"
      ],
      "text/plain": [
       "         count_total  proportion_total  count_sys_sample  \\\n",
       "Country                                                    \n",
       "USA             4585          0.147139               150   \n",
       "URS             2049          0.065755                47   \n",
       "GBR             1720          0.055197                75   \n",
       "FRA             1396          0.044800                32   \n",
       "GER             1305          0.041879                44   \n",
       "ITA             1296          0.041590                47   \n",
       "AUS             1189          0.038157                47   \n",
       "HUN             1079          0.034627                36   \n",
       "SWE             1044          0.033503                32   \n",
       "NED              851          0.027310                30   \n",
       "GDR              825          0.026475                26   \n",
       "CHN              807          0.025898                24   \n",
       "JPN              788          0.025288                32   \n",
       "RUS              768          0.024646                21   \n",
       "CAN              649          0.020827                17   \n",
       "ROU              640          0.020538                17   \n",
       "NOR              554          0.017779                13   \n",
       "KOR              529          0.016976                18   \n",
       "POL              511          0.016399                20   \n",
       "DEN              507          0.016270                15   \n",
       "\n",
       "         proportion_sys_sample  \n",
       "Country                         \n",
       "USA                   0.149105  \n",
       "URS                   0.046720  \n",
       "GBR                   0.074553  \n",
       "FRA                   0.031809  \n",
       "GER                   0.043738  \n",
       "ITA                   0.046720  \n",
       "AUS                   0.046720  \n",
       "HUN                   0.035785  \n",
       "SWE                   0.031809  \n",
       "NED                   0.029821  \n",
       "GDR                   0.025845  \n",
       "CHN                   0.023857  \n",
       "JPN                   0.031809  \n",
       "RUS                   0.020875  \n",
       "CAN                   0.016899  \n",
       "ROU                   0.016899  \n",
       "NOR                   0.012922  \n",
       "KOR                   0.017893  \n",
       "POL                   0.019881  \n",
       "DEN                   0.014911  "
      ]
     },
     "execution_count": 27,
     "metadata": {},
     "output_type": "execute_result"
    }
   ],
   "source": [
    "medal_count.merge(medal_count_sys_sample, left_on='Country', right_on='Country', \n",
    "                  suffixes=('_total', '_sys_sample')).head(20)"
   ]
  },
  {
   "cell_type": "markdown",
   "id": "71a23f8c",
   "metadata": {},
   "source": [
    "$~$\n",
    "\n",
    "we can also see the simple sample, the systematic sample together \n",
    "\n",
    "$~$"
   ]
  },
  {
   "cell_type": "code",
   "execution_count": 28,
   "id": "a8a51594",
   "metadata": {
    "ExecuteTime": {
     "end_time": "2022-03-10T14:55:50.318709Z",
     "start_time": "2022-03-10T14:55:50.203878Z"
    }
   },
   "outputs": [
    {
     "data": {
      "text/html": [
       "<div>\n",
       "<style scoped>\n",
       "    .dataframe tbody tr th:only-of-type {\n",
       "        vertical-align: middle;\n",
       "    }\n",
       "\n",
       "    .dataframe tbody tr th {\n",
       "        vertical-align: top;\n",
       "    }\n",
       "\n",
       "    .dataframe thead th {\n",
       "        text-align: right;\n",
       "    }\n",
       "</style>\n",
       "<table border=\"1\" class=\"dataframe\">\n",
       "  <thead>\n",
       "    <tr style=\"text-align: right;\">\n",
       "      <th></th>\n",
       "      <th>pop_proportion</th>\n",
       "      <th>simple_sample_proportion</th>\n",
       "      <th>sys_sample_proportion</th>\n",
       "    </tr>\n",
       "  </thead>\n",
       "  <tbody>\n",
       "    <tr>\n",
       "      <th>USA</th>\n",
       "      <td>0.147139</td>\n",
       "      <td>0.135</td>\n",
       "      <td>0.149105</td>\n",
       "    </tr>\n",
       "    <tr>\n",
       "      <th>URS</th>\n",
       "      <td>0.065755</td>\n",
       "      <td>0.075</td>\n",
       "      <td>0.046720</td>\n",
       "    </tr>\n",
       "    <tr>\n",
       "      <th>GBR</th>\n",
       "      <td>0.055197</td>\n",
       "      <td>0.057</td>\n",
       "      <td>0.074553</td>\n",
       "    </tr>\n",
       "    <tr>\n",
       "      <th>FRA</th>\n",
       "      <td>0.044800</td>\n",
       "      <td>0.052</td>\n",
       "      <td>0.031809</td>\n",
       "    </tr>\n",
       "    <tr>\n",
       "      <th>GER</th>\n",
       "      <td>0.041879</td>\n",
       "      <td>0.041</td>\n",
       "      <td>0.043738</td>\n",
       "    </tr>\n",
       "    <tr>\n",
       "      <th>ITA</th>\n",
       "      <td>0.041590</td>\n",
       "      <td>0.056</td>\n",
       "      <td>0.046720</td>\n",
       "    </tr>\n",
       "    <tr>\n",
       "      <th>AUS</th>\n",
       "      <td>0.038157</td>\n",
       "      <td>0.038</td>\n",
       "      <td>0.046720</td>\n",
       "    </tr>\n",
       "    <tr>\n",
       "      <th>HUN</th>\n",
       "      <td>0.034627</td>\n",
       "      <td>0.038</td>\n",
       "      <td>0.035785</td>\n",
       "    </tr>\n",
       "    <tr>\n",
       "      <th>SWE</th>\n",
       "      <td>0.033503</td>\n",
       "      <td>0.030</td>\n",
       "      <td>0.031809</td>\n",
       "    </tr>\n",
       "    <tr>\n",
       "      <th>NED</th>\n",
       "      <td>0.027310</td>\n",
       "      <td>0.031</td>\n",
       "      <td>0.029821</td>\n",
       "    </tr>\n",
       "    <tr>\n",
       "      <th>GDR</th>\n",
       "      <td>0.026475</td>\n",
       "      <td>0.016</td>\n",
       "      <td>0.025845</td>\n",
       "    </tr>\n",
       "    <tr>\n",
       "      <th>CHN</th>\n",
       "      <td>0.025898</td>\n",
       "      <td>0.023</td>\n",
       "      <td>0.023857</td>\n",
       "    </tr>\n",
       "    <tr>\n",
       "      <th>JPN</th>\n",
       "      <td>0.025288</td>\n",
       "      <td>0.029</td>\n",
       "      <td>0.031809</td>\n",
       "    </tr>\n",
       "    <tr>\n",
       "      <th>RUS</th>\n",
       "      <td>0.024646</td>\n",
       "      <td>0.034</td>\n",
       "      <td>0.020875</td>\n",
       "    </tr>\n",
       "    <tr>\n",
       "      <th>CAN</th>\n",
       "      <td>0.020827</td>\n",
       "      <td>0.020</td>\n",
       "      <td>0.016899</td>\n",
       "    </tr>\n",
       "    <tr>\n",
       "      <th>ROU</th>\n",
       "      <td>0.020538</td>\n",
       "      <td>0.016</td>\n",
       "      <td>0.016899</td>\n",
       "    </tr>\n",
       "    <tr>\n",
       "      <th>NOR</th>\n",
       "      <td>0.017779</td>\n",
       "      <td>0.017</td>\n",
       "      <td>0.012922</td>\n",
       "    </tr>\n",
       "    <tr>\n",
       "      <th>KOR</th>\n",
       "      <td>0.016976</td>\n",
       "      <td>0.018</td>\n",
       "      <td>0.017893</td>\n",
       "    </tr>\n",
       "    <tr>\n",
       "      <th>POL</th>\n",
       "      <td>0.016399</td>\n",
       "      <td>0.012</td>\n",
       "      <td>0.019881</td>\n",
       "    </tr>\n",
       "    <tr>\n",
       "      <th>DEN</th>\n",
       "      <td>0.016270</td>\n",
       "      <td>0.017</td>\n",
       "      <td>0.014911</td>\n",
       "    </tr>\n",
       "  </tbody>\n",
       "</table>\n",
       "</div>"
      ],
      "text/plain": [
       "     pop_proportion  simple_sample_proportion  sys_sample_proportion\n",
       "USA        0.147139                     0.135               0.149105\n",
       "URS        0.065755                     0.075               0.046720\n",
       "GBR        0.055197                     0.057               0.074553\n",
       "FRA        0.044800                     0.052               0.031809\n",
       "GER        0.041879                     0.041               0.043738\n",
       "ITA        0.041590                     0.056               0.046720\n",
       "AUS        0.038157                     0.038               0.046720\n",
       "HUN        0.034627                     0.038               0.035785\n",
       "SWE        0.033503                     0.030               0.031809\n",
       "NED        0.027310                     0.031               0.029821\n",
       "GDR        0.026475                     0.016               0.025845\n",
       "CHN        0.025898                     0.023               0.023857\n",
       "JPN        0.025288                     0.029               0.031809\n",
       "RUS        0.024646                     0.034               0.020875\n",
       "CAN        0.020827                     0.020               0.016899\n",
       "ROU        0.020538                     0.016               0.016899\n",
       "NOR        0.017779                     0.017               0.012922\n",
       "KOR        0.016976                     0.018               0.017893\n",
       "POL        0.016399                     0.012               0.019881\n",
       "DEN        0.016270                     0.017               0.014911"
      ]
     },
     "execution_count": 28,
     "metadata": {},
     "output_type": "execute_result"
    }
   ],
   "source": [
    "df1 = df[\"Country\"].value_counts(normalize=True).to_frame('pop_proportion')\n",
    "df2 = df_sample[\"Country\"].value_counts(normalize=True).to_frame('simple_sample_proportion')\n",
    "df3 = sys_sample [\"Country\"].value_counts(normalize=True).to_frame('sys_sample_proportion')\n",
    "\n",
    "pd.concat([df1, df2, df3],axis=1).head(20)"
   ]
  },
  {
   "cell_type": "code",
   "execution_count": 29,
   "id": "68f85889",
   "metadata": {
    "ExecuteTime": {
     "end_time": "2022-03-10T14:55:50.812318Z",
     "start_time": "2022-03-10T14:55:50.321002Z"
    }
   },
   "outputs": [
    {
     "data": {
      "image/png": "[encoded data removed]",
      "text/plain": [
       "<Figure size 1080x360 with 3 Axes>"
      ]
     },
     "metadata": {
      "needs_background": "light"
     },
     "output_type": "display_data"
    }
   ],
   "source": [
    "fig,axes = plt.subplots(1,3, figsize=(15,5))\n",
    "\n",
    "medal_count[\"proportion\"].hist(bins=np.arange(0,0.15,0.01),ax=axes[0])\n",
    "\n",
    "axes[0].spines['top'].set_visible(False)\n",
    "axes[0].spines['right'].set_visible(False)\n",
    "axes[0].set_title(\"fig 1. histogram plot: population \",fontsize=8)\n",
    "\n",
    "\n",
    "medal_count_sample[\"proportion\"].hist(bins=np.arange(0,0.15,0.01),ax=axes[1])\n",
    "axes[1].set_title(\"fig 2. histogram plot: simple random sample\",fontsize=8)\n",
    "\n",
    "axes[1].spines['top'].set_visible(False)\n",
    "axes[1].spines['right'].set_visible(False)\n",
    "\n",
    "medal_count_sys_sample[\"proportion\"].hist(bins=np.arange(0,0.15,0.01),ax=axes[2])\n",
    "axes[2].set_title(\"fig 3. histogram plot: Systematic random sample\",fontsize=8)\n",
    "\n",
    "axes[2].spines['top'].set_visible(False)\n",
    "axes[2].spines['right'].set_visible(False)\n",
    "\n",
    "plt.show()"
   ]
  },
  {
   "cell_type": "code",
   "execution_count": null,
   "id": "07019118",
   "metadata": {},
   "outputs": [],
   "source": []
  },
  {
   "cell_type": "markdown",
   "id": "214112c9",
   "metadata": {},
   "source": [
    "$~$\n",
    "\n",
    "####  stratified sample and SMOTE (Synthetic Minority Oversampling Technique).\n",
    "\n",
    "$~$\n",
    "\n",
    "Continue with the sports theme data set and generate a stratified sample and a sample using SMOTE (Synthetic Minority Oversampling Technique):\n",
    "$~$\n",
    "___\n",
    "$~$\n",
    "\n",
    "#####  stratified sample\n",
    "\n",
    "$~$"
   ]
  },
  {
   "cell_type": "markdown",
   "id": "3c7e691d",
   "metadata": {},
   "source": [
    "\n",
    "$~$\n",
    "\n",
    "\n",
    "To make it easier to think about sampling subgroups, let's limit our analysis to these ten countries. \n",
    "\n",
    "\n",
    "\n",
    "$~$"
   ]
  },
  {
   "cell_type": "code",
   "execution_count": 30,
   "id": "2b6dd7e0",
   "metadata": {
    "ExecuteTime": {
     "end_time": "2022-03-10T14:55:50.822846Z",
     "start_time": "2022-03-10T14:55:50.814669Z"
    }
   },
   "outputs": [
    {
     "data": {
      "text/plain": [
       "USA    4585\n",
       "URS    2049\n",
       "GBR    1720\n",
       "FRA    1396\n",
       "GER    1305\n",
       "ITA    1296\n",
       "AUS    1189\n",
       "HUN    1079\n",
       "SWE    1044\n",
       "NED     851\n",
       "Name: Country, dtype: int64"
      ]
     },
     "execution_count": 30,
     "metadata": {},
     "output_type": "execute_result"
    }
   ],
   "source": [
    "top_counts = df[\"Country\"].value_counts()\n",
    "top_counts.head(10)"
   ]
  },
  {
   "cell_type": "code",
   "execution_count": 31,
   "id": "49242501",
   "metadata": {
    "ExecuteTime": {
     "end_time": "2022-03-10T14:55:50.830563Z",
     "start_time": "2022-03-10T14:55:50.825072Z"
    }
   },
   "outputs": [
    {
     "data": {
      "text/plain": [
       "Index(['USA', 'URS', 'GBR', 'FRA', 'GER', 'ITA', 'AUS', 'HUN', 'SWE', 'NED'], dtype='object')"
      ]
     },
     "execution_count": 31,
     "metadata": {},
     "output_type": "execute_result"
    }
   ],
   "source": [
    "top_counts_countries = top_counts.head(10).index\n",
    "\n",
    "top_counts_countries\n"
   ]
  },
  {
   "cell_type": "markdown",
   "id": "3c452f52",
   "metadata": {},
   "source": [
    "$~$\n",
    "\n",
    "We can use the dot-isin method to filter the population and only return the rows corresponding to these ten countries.\n",
    "\n",
    "$~$\n",
    "\n",
    "This filtered dataset is stored as countries_rating_top. \n",
    "\n",
    "\n",
    "$~$"
   ]
  },
  {
   "cell_type": "code",
   "execution_count": 32,
   "id": "868d23ab",
   "metadata": {
    "ExecuteTime": {
     "end_time": "2022-03-10T14:55:50.839904Z",
     "start_time": "2022-03-10T14:55:50.832721Z"
    }
   },
   "outputs": [],
   "source": [
    "top_counts_subset = df[\"Country\"].isin(top_counts_countries)\n",
    "\n",
    "countries_rating_top=df[top_counts_subset]"
   ]
  },
  {
   "cell_type": "code",
   "execution_count": 33,
   "id": "3f70181b",
   "metadata": {
    "ExecuteTime": {
     "end_time": "2022-03-10T14:55:50.861914Z",
     "start_time": "2022-03-10T14:55:50.842891Z"
    }
   },
   "outputs": [
    {
     "data": {
      "text/html": [
       "<div>\n",
       "<style scoped>\n",
       "    .dataframe tbody tr th:only-of-type {\n",
       "        vertical-align: middle;\n",
       "    }\n",
       "\n",
       "    .dataframe tbody tr th {\n",
       "        vertical-align: top;\n",
       "    }\n",
       "\n",
       "    .dataframe thead th {\n",
       "        text-align: right;\n",
       "    }\n",
       "</style>\n",
       "<table border=\"1\" class=\"dataframe\">\n",
       "  <thead>\n",
       "    <tr style=\"text-align: right;\">\n",
       "      <th></th>\n",
       "      <th>Year</th>\n",
       "      <th>City</th>\n",
       "      <th>Sport</th>\n",
       "      <th>Discipline</th>\n",
       "      <th>Athlete</th>\n",
       "      <th>Country</th>\n",
       "      <th>Gender</th>\n",
       "      <th>Event</th>\n",
       "      <th>Medal</th>\n",
       "    </tr>\n",
       "  </thead>\n",
       "  <tbody>\n",
       "    <tr>\n",
       "      <th>0</th>\n",
       "      <td>1896</td>\n",
       "      <td>Athens</td>\n",
       "      <td>Aquatics</td>\n",
       "      <td>Swimming</td>\n",
       "      <td>HAJOS, Alfred</td>\n",
       "      <td>HUN</td>\n",
       "      <td>Men</td>\n",
       "      <td>100M Freestyle</td>\n",
       "      <td>Gold</td>\n",
       "    </tr>\n",
       "    <tr>\n",
       "      <th>1</th>\n",
       "      <td>1896</td>\n",
       "      <td>Athens</td>\n",
       "      <td>Aquatics</td>\n",
       "      <td>Swimming</td>\n",
       "      <td>HAJOS, Alfred</td>\n",
       "      <td>HUN</td>\n",
       "      <td>Men</td>\n",
       "      <td>1200M Freestyle</td>\n",
       "      <td>Gold</td>\n",
       "    </tr>\n",
       "    <tr>\n",
       "      <th>2</th>\n",
       "      <td>1896</td>\n",
       "      <td>Athens</td>\n",
       "      <td>Athletics</td>\n",
       "      <td>Athletics</td>\n",
       "      <td>LANE, Francis</td>\n",
       "      <td>USA</td>\n",
       "      <td>Men</td>\n",
       "      <td>100M</td>\n",
       "      <td>Bronze</td>\n",
       "    </tr>\n",
       "    <tr>\n",
       "      <th>3</th>\n",
       "      <td>1896</td>\n",
       "      <td>Athens</td>\n",
       "      <td>Athletics</td>\n",
       "      <td>Athletics</td>\n",
       "      <td>SZOKOLYI, Alajos</td>\n",
       "      <td>HUN</td>\n",
       "      <td>Men</td>\n",
       "      <td>100M</td>\n",
       "      <td>Bronze</td>\n",
       "    </tr>\n",
       "    <tr>\n",
       "      <th>4</th>\n",
       "      <td>1896</td>\n",
       "      <td>Athens</td>\n",
       "      <td>Athletics</td>\n",
       "      <td>Athletics</td>\n",
       "      <td>BURKE, Thomas</td>\n",
       "      <td>USA</td>\n",
       "      <td>Men</td>\n",
       "      <td>100M</td>\n",
       "      <td>Gold</td>\n",
       "    </tr>\n",
       "    <tr>\n",
       "      <th>...</th>\n",
       "      <td>...</td>\n",
       "      <td>...</td>\n",
       "      <td>...</td>\n",
       "      <td>...</td>\n",
       "      <td>...</td>\n",
       "      <td>...</td>\n",
       "      <td>...</td>\n",
       "      <td>...</td>\n",
       "      <td>...</td>\n",
       "    </tr>\n",
       "    <tr>\n",
       "      <th>16509</th>\n",
       "      <td>2012</td>\n",
       "      <td>London</td>\n",
       "      <td>Wrestling</td>\n",
       "      <td>Wrestling Freestyle</td>\n",
       "      <td>EUREN, Johan</td>\n",
       "      <td>SWE</td>\n",
       "      <td>Men</td>\n",
       "      <td>Wg 120 KG</td>\n",
       "      <td>Bronze</td>\n",
       "    </tr>\n",
       "    <tr>\n",
       "      <th>16510</th>\n",
       "      <td>2012</td>\n",
       "      <td>London</td>\n",
       "      <td>Wrestling</td>\n",
       "      <td>Wrestling Freestyle</td>\n",
       "      <td>MODOS, Peter</td>\n",
       "      <td>HUN</td>\n",
       "      <td>Men</td>\n",
       "      <td>Wg 55 KG</td>\n",
       "      <td>Bronze</td>\n",
       "    </tr>\n",
       "    <tr>\n",
       "      <th>16511</th>\n",
       "      <td>2012</td>\n",
       "      <td>London</td>\n",
       "      <td>Wrestling</td>\n",
       "      <td>Wrestling Freestyle</td>\n",
       "      <td>LORINCZ, Tamas</td>\n",
       "      <td>HUN</td>\n",
       "      <td>Men</td>\n",
       "      <td>Wg 66 KG</td>\n",
       "      <td>Silver</td>\n",
       "    </tr>\n",
       "    <tr>\n",
       "      <th>16512</th>\n",
       "      <td>2012</td>\n",
       "      <td>London</td>\n",
       "      <td>Wrestling</td>\n",
       "      <td>Wrestling Freestyle</td>\n",
       "      <td>GUENOT, Steeve</td>\n",
       "      <td>FRA</td>\n",
       "      <td>Men</td>\n",
       "      <td>Wg 66 KG</td>\n",
       "      <td>Bronze</td>\n",
       "    </tr>\n",
       "    <tr>\n",
       "      <th>16513</th>\n",
       "      <td>2012</td>\n",
       "      <td>London</td>\n",
       "      <td>Wrestling</td>\n",
       "      <td>Wrestling Freestyle</td>\n",
       "      <td>LIDBERG, Jimmy</td>\n",
       "      <td>SWE</td>\n",
       "      <td>Men</td>\n",
       "      <td>Wg 96 KG</td>\n",
       "      <td>Bronze</td>\n",
       "    </tr>\n",
       "  </tbody>\n",
       "</table>\n",
       "<p>16514 rows × 9 columns</p>\n",
       "</div>"
      ],
      "text/plain": [
       "       Year    City      Sport           Discipline           Athlete Country  \\\n",
       "0      1896  Athens   Aquatics             Swimming     HAJOS, Alfred     HUN   \n",
       "1      1896  Athens   Aquatics             Swimming     HAJOS, Alfred     HUN   \n",
       "2      1896  Athens  Athletics            Athletics     LANE, Francis     USA   \n",
       "3      1896  Athens  Athletics            Athletics  SZOKOLYI, Alajos     HUN   \n",
       "4      1896  Athens  Athletics            Athletics     BURKE, Thomas     USA   \n",
       "...     ...     ...        ...                  ...               ...     ...   \n",
       "16509  2012  London  Wrestling  Wrestling Freestyle      EUREN, Johan     SWE   \n",
       "16510  2012  London  Wrestling  Wrestling Freestyle      MODOS, Peter     HUN   \n",
       "16511  2012  London  Wrestling  Wrestling Freestyle    LORINCZ, Tamas     HUN   \n",
       "16512  2012  London  Wrestling  Wrestling Freestyle    GUENOT, Steeve     FRA   \n",
       "16513  2012  London  Wrestling  Wrestling Freestyle    LIDBERG, Jimmy     SWE   \n",
       "\n",
       "      Gender            Event   Medal  \n",
       "0        Men   100M Freestyle    Gold  \n",
       "1        Men  1200M Freestyle    Gold  \n",
       "2        Men             100M  Bronze  \n",
       "3        Men             100M  Bronze  \n",
       "4        Men             100M    Gold  \n",
       "...      ...              ...     ...  \n",
       "16509    Men        Wg 120 KG  Bronze  \n",
       "16510    Men         Wg 55 KG  Bronze  \n",
       "16511    Men         Wg 66 KG  Silver  \n",
       "16512    Men         Wg 66 KG  Bronze  \n",
       "16513    Men         Wg 96 KG  Bronze  \n",
       "\n",
       "[16514 rows x 9 columns]"
      ]
     },
     "execution_count": 33,
     "metadata": {},
     "output_type": "execute_result"
    }
   ],
   "source": [
    "countries_rating_top.reset_index(drop=True)"
   ]
  },
  {
   "cell_type": "markdown",
   "id": "5446c384",
   "metadata": {},
   "source": [
    "$~$\n",
    "\n",
    "Let's see how many medals each country has:\n",
    "\n",
    "\n",
    "$~$"
   ]
  },
  {
   "cell_type": "code",
   "execution_count": 34,
   "id": "2ed33840",
   "metadata": {
    "ExecuteTime": {
     "end_time": "2022-03-10T14:55:50.875794Z",
     "start_time": "2022-03-10T14:55:50.864779Z"
    }
   },
   "outputs": [
    {
     "data": {
      "text/plain": [
       "USA    0.277643\n",
       "URS    0.124077\n",
       "GBR    0.104154\n",
       "FRA    0.084534\n",
       "GER    0.079024\n",
       "ITA    0.078479\n",
       "AUS    0.072000\n",
       "HUN    0.065339\n",
       "SWE    0.063219\n",
       "NED    0.051532\n",
       "Name: Country, dtype: float64"
      ]
     },
     "execution_count": 34,
     "metadata": {},
     "output_type": "execute_result"
    }
   ],
   "source": [
    "countries_rating_top[\"Country\"].value_counts(normalize=True)"
   ]
  },
  {
   "cell_type": "markdown",
   "id": "8ab7fb85",
   "metadata": {},
   "source": [
    "$~$\n",
    "\n",
    "Let's take a ten percent simple random sample of the dataset using dot-sample with frac set to zero-point-one. We also set the random_state argument to ensure reproducibility. \n",
    "\n",
    "\n",
    "$~$"
   ]
  },
  {
   "cell_type": "code",
   "execution_count": 35,
   "id": "c84032d0",
   "metadata": {
    "ExecuteTime": {
     "end_time": "2022-03-10T14:55:50.896067Z",
     "start_time": "2022-03-10T14:55:50.878430Z"
    }
   },
   "outputs": [],
   "source": [
    "country_rating_samp = countries_rating_top.groupby(\"Country\")\\\n",
    "                                            .sample(frac=0.1,random_state=2021)"
   ]
  },
  {
   "cell_type": "markdown",
   "id": "646ac7f3",
   "metadata": {},
   "source": [
    "\n",
    "$~$\n",
    "\n",
    "By grouping (by country) then sampling, the size of each group in the sample is representative of the size of the sample in the population.\n",
    "\n",
    "\n",
    "$~$"
   ]
  },
  {
   "cell_type": "code",
   "execution_count": 36,
   "id": "e1a55e70",
   "metadata": {
    "ExecuteTime": {
     "end_time": "2022-03-10T14:55:50.915152Z",
     "start_time": "2022-03-10T14:55:50.898379Z"
    }
   },
   "outputs": [
    {
     "data": {
      "text/html": [
       "<div>\n",
       "<style scoped>\n",
       "    .dataframe tbody tr th:only-of-type {\n",
       "        vertical-align: middle;\n",
       "    }\n",
       "\n",
       "    .dataframe tbody tr th {\n",
       "        vertical-align: top;\n",
       "    }\n",
       "\n",
       "    .dataframe thead th {\n",
       "        text-align: right;\n",
       "    }\n",
       "</style>\n",
       "<table border=\"1\" class=\"dataframe\">\n",
       "  <thead>\n",
       "    <tr style=\"text-align: right;\">\n",
       "      <th></th>\n",
       "      <th>Year</th>\n",
       "      <th>City</th>\n",
       "      <th>Sport</th>\n",
       "      <th>Discipline</th>\n",
       "      <th>Athlete</th>\n",
       "      <th>Country</th>\n",
       "      <th>Gender</th>\n",
       "      <th>Event</th>\n",
       "      <th>Medal</th>\n",
       "    </tr>\n",
       "  </thead>\n",
       "  <tbody>\n",
       "    <tr>\n",
       "      <th>0</th>\n",
       "      <td>1996</td>\n",
       "      <td>Atlanta</td>\n",
       "      <td>Softball</td>\n",
       "      <td>Softball</td>\n",
       "      <td>BROWN, Joanne</td>\n",
       "      <td>AUS</td>\n",
       "      <td>Women</td>\n",
       "      <td>Softball</td>\n",
       "      <td>Bronze</td>\n",
       "    </tr>\n",
       "    <tr>\n",
       "      <th>1</th>\n",
       "      <td>1988</td>\n",
       "      <td>Seoul</td>\n",
       "      <td>Cycling</td>\n",
       "      <td>Cycling Track</td>\n",
       "      <td>MCCARNEY, Wayne</td>\n",
       "      <td>AUS</td>\n",
       "      <td>Men</td>\n",
       "      <td>Team Pursuit (4000M)</td>\n",
       "      <td>Bronze</td>\n",
       "    </tr>\n",
       "    <tr>\n",
       "      <th>2</th>\n",
       "      <td>2000</td>\n",
       "      <td>Sydney</td>\n",
       "      <td>Aquatics</td>\n",
       "      <td>Swimming</td>\n",
       "      <td>THORPE, Ian</td>\n",
       "      <td>AUS</td>\n",
       "      <td>Men</td>\n",
       "      <td>4X100M Freestyle Relay</td>\n",
       "      <td>Gold</td>\n",
       "    </tr>\n",
       "    <tr>\n",
       "      <th>3</th>\n",
       "      <td>1996</td>\n",
       "      <td>Atlanta</td>\n",
       "      <td>Aquatics</td>\n",
       "      <td>Swimming</td>\n",
       "      <td>KOWALSKI, Daniel</td>\n",
       "      <td>AUS</td>\n",
       "      <td>Men</td>\n",
       "      <td>1500M Freestyle</td>\n",
       "      <td>Silver</td>\n",
       "    </tr>\n",
       "    <tr>\n",
       "      <th>4</th>\n",
       "      <td>1960</td>\n",
       "      <td>Rome</td>\n",
       "      <td>Boxing</td>\n",
       "      <td>Boxing</td>\n",
       "      <td>TAYLOR, Oliver</td>\n",
       "      <td>AUS</td>\n",
       "      <td>Men</td>\n",
       "      <td>51 - 54KG (Bantamweight)</td>\n",
       "      <td>Bronze</td>\n",
       "    </tr>\n",
       "    <tr>\n",
       "      <th>...</th>\n",
       "      <td>...</td>\n",
       "      <td>...</td>\n",
       "      <td>...</td>\n",
       "      <td>...</td>\n",
       "      <td>...</td>\n",
       "      <td>...</td>\n",
       "      <td>...</td>\n",
       "      <td>...</td>\n",
       "      <td>...</td>\n",
       "    </tr>\n",
       "    <tr>\n",
       "      <th>1646</th>\n",
       "      <td>1988</td>\n",
       "      <td>Seoul</td>\n",
       "      <td>Sailing</td>\n",
       "      <td>Sailing</td>\n",
       "      <td>JEWELL, Lynne M.</td>\n",
       "      <td>USA</td>\n",
       "      <td>Women</td>\n",
       "      <td>470 - Two Person Dinghy</td>\n",
       "      <td>Gold</td>\n",
       "    </tr>\n",
       "    <tr>\n",
       "      <th>1647</th>\n",
       "      <td>1920</td>\n",
       "      <td>Antwerp</td>\n",
       "      <td>Aquatics</td>\n",
       "      <td>Swimming</td>\n",
       "      <td>KAHANAMOKU, Duke Paoa</td>\n",
       "      <td>USA</td>\n",
       "      <td>Men</td>\n",
       "      <td>4X200M Freestyle Relay</td>\n",
       "      <td>Gold</td>\n",
       "    </tr>\n",
       "    <tr>\n",
       "      <th>1648</th>\n",
       "      <td>2004</td>\n",
       "      <td>Athens</td>\n",
       "      <td>Aquatics</td>\n",
       "      <td>Swimming</td>\n",
       "      <td>KIRK, Tara</td>\n",
       "      <td>USA</td>\n",
       "      <td>Women</td>\n",
       "      <td>4X100M Medley Relay</td>\n",
       "      <td>Silver</td>\n",
       "    </tr>\n",
       "    <tr>\n",
       "      <th>1649</th>\n",
       "      <td>1988</td>\n",
       "      <td>Seoul</td>\n",
       "      <td>Aquatics</td>\n",
       "      <td>Swimming</td>\n",
       "      <td>BIONDI, Matthew</td>\n",
       "      <td>USA</td>\n",
       "      <td>Men</td>\n",
       "      <td>4X100M Medley Relay</td>\n",
       "      <td>Gold</td>\n",
       "    </tr>\n",
       "    <tr>\n",
       "      <th>1650</th>\n",
       "      <td>1996</td>\n",
       "      <td>Atlanta</td>\n",
       "      <td>Aquatics</td>\n",
       "      <td>Swimming</td>\n",
       "      <td>OLSEN, Jon</td>\n",
       "      <td>USA</td>\n",
       "      <td>Men</td>\n",
       "      <td>4X100M Freestyle Relay</td>\n",
       "      <td>Gold</td>\n",
       "    </tr>\n",
       "  </tbody>\n",
       "</table>\n",
       "<p>1651 rows × 9 columns</p>\n",
       "</div>"
      ],
      "text/plain": [
       "      Year     City     Sport     Discipline                Athlete Country  \\\n",
       "0     1996  Atlanta  Softball       Softball          BROWN, Joanne     AUS   \n",
       "1     1988    Seoul   Cycling  Cycling Track        MCCARNEY, Wayne     AUS   \n",
       "2     2000   Sydney  Aquatics       Swimming            THORPE, Ian     AUS   \n",
       "3     1996  Atlanta  Aquatics       Swimming       KOWALSKI, Daniel     AUS   \n",
       "4     1960     Rome    Boxing         Boxing         TAYLOR, Oliver     AUS   \n",
       "...    ...      ...       ...            ...                    ...     ...   \n",
       "1646  1988    Seoul   Sailing        Sailing       JEWELL, Lynne M.     USA   \n",
       "1647  1920  Antwerp  Aquatics       Swimming  KAHANAMOKU, Duke Paoa     USA   \n",
       "1648  2004   Athens  Aquatics       Swimming             KIRK, Tara     USA   \n",
       "1649  1988    Seoul  Aquatics       Swimming        BIONDI, Matthew     USA   \n",
       "1650  1996  Atlanta  Aquatics       Swimming             OLSEN, Jon     USA   \n",
       "\n",
       "     Gender                     Event   Medal  \n",
       "0     Women                  Softball  Bronze  \n",
       "1       Men      Team Pursuit (4000M)  Bronze  \n",
       "2       Men    4X100M Freestyle Relay    Gold  \n",
       "3       Men           1500M Freestyle  Silver  \n",
       "4       Men  51 - 54KG (Bantamweight)  Bronze  \n",
       "...     ...                       ...     ...  \n",
       "1646  Women   470 - Two Person Dinghy    Gold  \n",
       "1647    Men    4X200M Freestyle Relay    Gold  \n",
       "1648  Women       4X100M Medley Relay  Silver  \n",
       "1649    Men       4X100M Medley Relay    Gold  \n",
       "1650    Men    4X100M Freestyle Relay    Gold  \n",
       "\n",
       "[1651 rows x 9 columns]"
      ]
     },
     "execution_count": 36,
     "metadata": {},
     "output_type": "execute_result"
    }
   ],
   "source": [
    "country_rating_samp.reset_index(drop=True)"
   ]
  },
  {
   "cell_type": "markdown",
   "id": "d63d5fb0",
   "metadata": {},
   "source": [
    "$~$\n",
    "\n",
    "To make comparisons easier, as we do before, we set normalize to True to convert the counts into a proportion, which shows what proportion of medals in the sample came from each country. \n",
    "\n",
    "$~$"
   ]
  },
  {
   "cell_type": "code",
   "execution_count": 37,
   "id": "2f89fb82",
   "metadata": {
    "ExecuteTime": {
     "end_time": "2022-03-10T14:55:50.926799Z",
     "start_time": "2022-03-10T14:55:50.917543Z"
    }
   },
   "outputs": [
    {
     "data": {
      "text/plain": [
       "USA    0.277408\n",
       "URS    0.124167\n",
       "GBR    0.104179\n",
       "FRA    0.084797\n",
       "GER    0.078740\n",
       "ITA    0.078740\n",
       "AUS    0.072078\n",
       "HUN    0.065415\n",
       "SWE    0.062992\n",
       "NED    0.051484\n",
       "Name: Country, dtype: float64"
      ]
     },
     "execution_count": 37,
     "metadata": {},
     "output_type": "execute_result"
    }
   ],
   "source": [
    "country_rating_samp[\"Country\"].value_counts(normalize=True)"
   ]
  },
  {
   "cell_type": "markdown",
   "id": "e1683294",
   "metadata": {
    "ExecuteTime": {
     "end_time": "2022-03-10T13:34:57.681916Z",
     "start_time": "2022-03-10T13:34:57.677897Z"
    }
   },
   "source": [
    "$~$\n",
    "\n",
    "now we can compare our population with the stratified sample\n",
    "\n",
    "$~$"
   ]
  },
  {
   "cell_type": "code",
   "execution_count": 38,
   "id": "f602f893",
   "metadata": {
    "ExecuteTime": {
     "end_time": "2022-03-10T14:55:50.944212Z",
     "start_time": "2022-03-10T14:55:50.930829Z"
    }
   },
   "outputs": [
    {
     "data": {
      "text/html": [
       "<div>\n",
       "<style scoped>\n",
       "    .dataframe tbody tr th:only-of-type {\n",
       "        vertical-align: middle;\n",
       "    }\n",
       "\n",
       "    .dataframe tbody tr th {\n",
       "        vertical-align: top;\n",
       "    }\n",
       "\n",
       "    .dataframe thead th {\n",
       "        text-align: right;\n",
       "    }\n",
       "</style>\n",
       "<table border=\"1\" class=\"dataframe\">\n",
       "  <thead>\n",
       "    <tr style=\"text-align: right;\">\n",
       "      <th></th>\n",
       "      <th>pop_proportion</th>\n",
       "      <th>stat_proportion</th>\n",
       "    </tr>\n",
       "  </thead>\n",
       "  <tbody>\n",
       "    <tr>\n",
       "      <th>USA</th>\n",
       "      <td>0.277643</td>\n",
       "      <td>0.277408</td>\n",
       "    </tr>\n",
       "    <tr>\n",
       "      <th>URS</th>\n",
       "      <td>0.124077</td>\n",
       "      <td>0.124167</td>\n",
       "    </tr>\n",
       "    <tr>\n",
       "      <th>GBR</th>\n",
       "      <td>0.104154</td>\n",
       "      <td>0.104179</td>\n",
       "    </tr>\n",
       "    <tr>\n",
       "      <th>FRA</th>\n",
       "      <td>0.084534</td>\n",
       "      <td>0.084797</td>\n",
       "    </tr>\n",
       "    <tr>\n",
       "      <th>GER</th>\n",
       "      <td>0.079024</td>\n",
       "      <td>0.078740</td>\n",
       "    </tr>\n",
       "    <tr>\n",
       "      <th>ITA</th>\n",
       "      <td>0.078479</td>\n",
       "      <td>0.078740</td>\n",
       "    </tr>\n",
       "    <tr>\n",
       "      <th>AUS</th>\n",
       "      <td>0.072000</td>\n",
       "      <td>0.072078</td>\n",
       "    </tr>\n",
       "    <tr>\n",
       "      <th>HUN</th>\n",
       "      <td>0.065339</td>\n",
       "      <td>0.065415</td>\n",
       "    </tr>\n",
       "    <tr>\n",
       "      <th>SWE</th>\n",
       "      <td>0.063219</td>\n",
       "      <td>0.062992</td>\n",
       "    </tr>\n",
       "    <tr>\n",
       "      <th>NED</th>\n",
       "      <td>0.051532</td>\n",
       "      <td>0.051484</td>\n",
       "    </tr>\n",
       "  </tbody>\n",
       "</table>\n",
       "</div>"
      ],
      "text/plain": [
       "     pop_proportion  stat_proportion\n",
       "USA        0.277643         0.277408\n",
       "URS        0.124077         0.124167\n",
       "GBR        0.104154         0.104179\n",
       "FRA        0.084534         0.084797\n",
       "GER        0.079024         0.078740\n",
       "ITA        0.078479         0.078740\n",
       "AUS        0.072000         0.072078\n",
       "HUN        0.065339         0.065415\n",
       "SWE        0.063219         0.062992\n",
       "NED        0.051532         0.051484"
      ]
     },
     "execution_count": 38,
     "metadata": {},
     "output_type": "execute_result"
    }
   ],
   "source": [
    "df1 = countries_rating_top[\"Country\"].value_counts(normalize=True).to_frame('pop_proportion')\n",
    "df2 = country_rating_samp[\"Country\"].value_counts(normalize=True).to_frame('stat_proportion')\n",
    "\n",
    "pd.concat([df1, df2],axis=1)"
   ]
  },
  {
   "cell_type": "markdown",
   "id": "52fe8d72",
   "metadata": {},
   "source": [
    "$~$\n",
    "\n",
    "**we see that the sample proportion is more similar to the population proportion**\n",
    "\n",
    "$~$"
   ]
  },
  {
   "cell_type": "markdown",
   "id": "335ed7a8",
   "metadata": {},
   "source": [
    "___\n",
    "$~$\n",
    "\n",
    "#####  second method of stratified sample\n",
    "\n",
    "$~$\n",
    "\n",
    "now we are going to use a second method to obtain stratified samples. Here we will use the library: \"sklearn.model_selection.train_test_split\"\n",
    "which will allow us to do what we did before, but much faster.\n",
    "\n",
    "$~$\n"
   ]
  },
  {
   "cell_type": "code",
   "execution_count": 39,
   "id": "4494b867",
   "metadata": {
    "ExecuteTime": {
     "end_time": "2022-03-10T14:55:50.967418Z",
     "start_time": "2022-03-10T14:55:50.946407Z"
    }
   },
   "outputs": [],
   "source": [
    "Xtrain, Xtest = train_test_split(countries_rating_top, test_size=0.10, stratify=countries_rating_top['Country'])\n"
   ]
  },
  {
   "cell_type": "code",
   "execution_count": 40,
   "id": "cfbb92ec",
   "metadata": {
    "ExecuteTime": {
     "end_time": "2022-03-10T14:55:50.984338Z",
     "start_time": "2022-03-10T14:55:50.970188Z"
    }
   },
   "outputs": [
    {
     "data": {
      "text/html": [
       "<div>\n",
       "<style scoped>\n",
       "    .dataframe tbody tr th:only-of-type {\n",
       "        vertical-align: middle;\n",
       "    }\n",
       "\n",
       "    .dataframe tbody tr th {\n",
       "        vertical-align: top;\n",
       "    }\n",
       "\n",
       "    .dataframe thead th {\n",
       "        text-align: right;\n",
       "    }\n",
       "</style>\n",
       "<table border=\"1\" class=\"dataframe\">\n",
       "  <thead>\n",
       "    <tr style=\"text-align: right;\">\n",
       "      <th></th>\n",
       "      <th>Year</th>\n",
       "      <th>City</th>\n",
       "      <th>Sport</th>\n",
       "      <th>Discipline</th>\n",
       "      <th>Athlete</th>\n",
       "      <th>Country</th>\n",
       "      <th>Gender</th>\n",
       "      <th>Event</th>\n",
       "      <th>Medal</th>\n",
       "    </tr>\n",
       "  </thead>\n",
       "  <tbody>\n",
       "    <tr>\n",
       "      <th>16950</th>\n",
       "      <td>1984</td>\n",
       "      <td>Los Angeles</td>\n",
       "      <td>Athletics</td>\n",
       "      <td>Athletics</td>\n",
       "      <td>CONLEY, Mike</td>\n",
       "      <td>USA</td>\n",
       "      <td>Men</td>\n",
       "      <td>Triple Jump</td>\n",
       "      <td>Silver</td>\n",
       "    </tr>\n",
       "    <tr>\n",
       "      <th>195</th>\n",
       "      <td>1900</td>\n",
       "      <td>Paris</td>\n",
       "      <td>Aquatics</td>\n",
       "      <td>Water polo</td>\n",
       "      <td>PESLOY</td>\n",
       "      <td>FRA</td>\n",
       "      <td>Men</td>\n",
       "      <td>Water Polo</td>\n",
       "      <td>Bronze</td>\n",
       "    </tr>\n",
       "    <tr>\n",
       "      <th>8599</th>\n",
       "      <td>1952</td>\n",
       "      <td>Helsinki</td>\n",
       "      <td>Gymnastics</td>\n",
       "      <td>Artistic G.</td>\n",
       "      <td>KALINCHUK, Ekaterina</td>\n",
       "      <td>URS</td>\n",
       "      <td>Women</td>\n",
       "      <td>Team Competition</td>\n",
       "      <td>Gold</td>\n",
       "    </tr>\n",
       "    <tr>\n",
       "      <th>6435</th>\n",
       "      <td>1936</td>\n",
       "      <td>Berlin</td>\n",
       "      <td>Athletics</td>\n",
       "      <td>Athletics</td>\n",
       "      <td>BECCALI, Luigi</td>\n",
       "      <td>ITA</td>\n",
       "      <td>Men</td>\n",
       "      <td>1500M</td>\n",
       "      <td>Bronze</td>\n",
       "    </tr>\n",
       "    <tr>\n",
       "      <th>3923</th>\n",
       "      <td>1920</td>\n",
       "      <td>Antwerp</td>\n",
       "      <td>Shooting</td>\n",
       "      <td>Shooting</td>\n",
       "      <td>BRACKEN, Raymond</td>\n",
       "      <td>USA</td>\n",
       "      <td>Men</td>\n",
       "      <td>50M Army Pistol, Team</td>\n",
       "      <td>Gold</td>\n",
       "    </tr>\n",
       "  </tbody>\n",
       "</table>\n",
       "</div>"
      ],
      "text/plain": [
       "       Year         City       Sport   Discipline               Athlete  \\\n",
       "16950  1984  Los Angeles   Athletics    Athletics          CONLEY, Mike   \n",
       "195    1900        Paris    Aquatics   Water polo                PESLOY   \n",
       "8599   1952     Helsinki  Gymnastics  Artistic G.  KALINCHUK, Ekaterina   \n",
       "6435   1936       Berlin   Athletics    Athletics        BECCALI, Luigi   \n",
       "3923   1920      Antwerp    Shooting     Shooting      BRACKEN, Raymond   \n",
       "\n",
       "      Country Gender                  Event   Medal  \n",
       "16950     USA    Men            Triple Jump  Silver  \n",
       "195       FRA    Men             Water Polo  Bronze  \n",
       "8599      URS  Women       Team Competition    Gold  \n",
       "6435      ITA    Men                  1500M  Bronze  \n",
       "3923      USA    Men  50M Army Pistol, Team    Gold  "
      ]
     },
     "execution_count": 40,
     "metadata": {},
     "output_type": "execute_result"
    }
   ],
   "source": [
    "stratified_df = pd.DataFrame(Xtest)\n",
    "stratified_df.head()\n"
   ]
  },
  {
   "cell_type": "code",
   "execution_count": 41,
   "id": "6c5defe4",
   "metadata": {
    "ExecuteTime": {
     "end_time": "2022-03-10T14:55:50.993055Z",
     "start_time": "2022-03-10T14:55:50.986637Z"
    }
   },
   "outputs": [
    {
     "data": {
      "text/plain": [
       "(1652, 9)"
      ]
     },
     "execution_count": 41,
     "metadata": {},
     "output_type": "execute_result"
    }
   ],
   "source": [
    "stratified_df.shape"
   ]
  },
  {
   "cell_type": "code",
   "execution_count": 42,
   "id": "43c51125",
   "metadata": {
    "ExecuteTime": {
     "end_time": "2022-03-10T14:55:51.000814Z",
     "start_time": "2022-03-10T14:55:50.996181Z"
    }
   },
   "outputs": [
    {
     "data": {
      "text/plain": [
       "(16514, 9)"
      ]
     },
     "execution_count": 42,
     "metadata": {},
     "output_type": "execute_result"
    }
   ],
   "source": [
    "countries_rating_top.shape"
   ]
  },
  {
   "cell_type": "code",
   "execution_count": 43,
   "id": "06dd4d42",
   "metadata": {
    "ExecuteTime": {
     "end_time": "2022-03-10T14:55:51.012298Z",
     "start_time": "2022-03-10T14:55:51.003777Z"
    }
   },
   "outputs": [
    {
     "data": {
      "text/plain": [
       "USA    0.277845\n",
       "URS    0.124092\n",
       "GBR    0.104116\n",
       "FRA    0.084746\n",
       "ITA    0.078692\n",
       "GER    0.078692\n",
       "AUS    0.072034\n",
       "HUN    0.065375\n",
       "SWE    0.062954\n",
       "NED    0.051453\n",
       "Name: Country, dtype: float64"
      ]
     },
     "execution_count": 43,
     "metadata": {},
     "output_type": "execute_result"
    }
   ],
   "source": [
    "stratified_df[\"Country\"].value_counts(normalize=True)"
   ]
  },
  {
   "cell_type": "markdown",
   "id": "1964611a",
   "metadata": {},
   "source": [
    "\n",
    "$~$\n",
    "\n",
    "now we can compare the two methods with our population\n",
    "\n",
    "\n",
    "$~$\n"
   ]
  },
  {
   "cell_type": "code",
   "execution_count": 44,
   "id": "9122362d",
   "metadata": {
    "ExecuteTime": {
     "end_time": "2022-03-10T14:55:51.031006Z",
     "start_time": "2022-03-10T14:55:51.014998Z"
    },
    "scrolled": true
   },
   "outputs": [
    {
     "data": {
      "text/html": [
       "<div>\n",
       "<style scoped>\n",
       "    .dataframe tbody tr th:only-of-type {\n",
       "        vertical-align: middle;\n",
       "    }\n",
       "\n",
       "    .dataframe tbody tr th {\n",
       "        vertical-align: top;\n",
       "    }\n",
       "\n",
       "    .dataframe thead th {\n",
       "        text-align: right;\n",
       "    }\n",
       "</style>\n",
       "<table border=\"1\" class=\"dataframe\">\n",
       "  <thead>\n",
       "    <tr style=\"text-align: right;\">\n",
       "      <th></th>\n",
       "      <th>pop_proportion</th>\n",
       "      <th>stat_proportion</th>\n",
       "      <th>train_stat_proportion</th>\n",
       "    </tr>\n",
       "  </thead>\n",
       "  <tbody>\n",
       "    <tr>\n",
       "      <th>USA</th>\n",
       "      <td>0.277643</td>\n",
       "      <td>0.277408</td>\n",
       "      <td>0.277845</td>\n",
       "    </tr>\n",
       "    <tr>\n",
       "      <th>URS</th>\n",
       "      <td>0.124077</td>\n",
       "      <td>0.124167</td>\n",
       "      <td>0.124092</td>\n",
       "    </tr>\n",
       "    <tr>\n",
       "      <th>GBR</th>\n",
       "      <td>0.104154</td>\n",
       "      <td>0.104179</td>\n",
       "      <td>0.104116</td>\n",
       "    </tr>\n",
       "    <tr>\n",
       "      <th>FRA</th>\n",
       "      <td>0.084534</td>\n",
       "      <td>0.084797</td>\n",
       "      <td>0.084746</td>\n",
       "    </tr>\n",
       "    <tr>\n",
       "      <th>GER</th>\n",
       "      <td>0.079024</td>\n",
       "      <td>0.078740</td>\n",
       "      <td>0.078692</td>\n",
       "    </tr>\n",
       "    <tr>\n",
       "      <th>ITA</th>\n",
       "      <td>0.078479</td>\n",
       "      <td>0.078740</td>\n",
       "      <td>0.078692</td>\n",
       "    </tr>\n",
       "    <tr>\n",
       "      <th>AUS</th>\n",
       "      <td>0.072000</td>\n",
       "      <td>0.072078</td>\n",
       "      <td>0.072034</td>\n",
       "    </tr>\n",
       "    <tr>\n",
       "      <th>HUN</th>\n",
       "      <td>0.065339</td>\n",
       "      <td>0.065415</td>\n",
       "      <td>0.065375</td>\n",
       "    </tr>\n",
       "    <tr>\n",
       "      <th>SWE</th>\n",
       "      <td>0.063219</td>\n",
       "      <td>0.062992</td>\n",
       "      <td>0.062954</td>\n",
       "    </tr>\n",
       "    <tr>\n",
       "      <th>NED</th>\n",
       "      <td>0.051532</td>\n",
       "      <td>0.051484</td>\n",
       "      <td>0.051453</td>\n",
       "    </tr>\n",
       "  </tbody>\n",
       "</table>\n",
       "</div>"
      ],
      "text/plain": [
       "     pop_proportion  stat_proportion  train_stat_proportion\n",
       "USA        0.277643         0.277408               0.277845\n",
       "URS        0.124077         0.124167               0.124092\n",
       "GBR        0.104154         0.104179               0.104116\n",
       "FRA        0.084534         0.084797               0.084746\n",
       "GER        0.079024         0.078740               0.078692\n",
       "ITA        0.078479         0.078740               0.078692\n",
       "AUS        0.072000         0.072078               0.072034\n",
       "HUN        0.065339         0.065415               0.065375\n",
       "SWE        0.063219         0.062992               0.062954\n",
       "NED        0.051532         0.051484               0.051453"
      ]
     },
     "execution_count": 44,
     "metadata": {},
     "output_type": "execute_result"
    }
   ],
   "source": [
    "df1 = countries_rating_top[\"Country\"].value_counts(normalize=True).to_frame('pop_proportion')\n",
    "df2 = country_rating_samp[\"Country\"].value_counts(normalize=True).to_frame('stat_proportion')\n",
    "df3 = stratified_df[\"Country\"].value_counts(normalize=True).to_frame('train_stat_proportion')\n",
    "\n",
    "pd.concat([df1, df2, df3],axis=1)"
   ]
  },
  {
   "cell_type": "markdown",
   "id": "d9ab6b72",
   "metadata": {
    "ExecuteTime": {
     "end_time": "2022-03-10T11:42:19.113171Z",
     "start_time": "2022-03-10T11:42:19.096709Z"
    }
   },
   "source": [
    "$~$\n",
    "\n",
    "**We see that with the two methods we obtain very similar results.**\n",
    "\n",
    "\n",
    "$~$"
   ]
  },
  {
   "cell_type": "markdown",
   "id": "122192ec",
   "metadata": {},
   "source": [
    "___\n",
    "$~$\n",
    "\n",
    "#####  SMOTE\n",
    "\n",
    "$~$\n",
    "\n",
    "+ The first thing we must do before applying the SMOTE method is to transform our variables.\n",
    "+ we are going to transform the variable \"Country\" . Let's change the country name to a number. We will do the same with the variable \"Medal\"\n",
    "\n",
    "$~$"
   ]
  },
  {
   "cell_type": "markdown",
   "id": "3fe1b7e5",
   "metadata": {},
   "source": [
    "$~$\n",
    "\n",
    "###### label encode\n",
    "\n",
    "$~$\n",
    "\n",
    "for this, we will use the [label Encode function](https://scikit-learn.org/stable/modules/generated/sklearn.preprocessing.LabelEncoder.html)\n",
    "\n",
    "$~$"
   ]
  },
  {
   "cell_type": "code",
   "execution_count": 48,
   "id": "e6a36fda",
   "metadata": {
    "ExecuteTime": {
     "end_time": "2022-03-10T14:57:52.942143Z",
     "start_time": "2022-03-10T14:57:52.935324Z"
    }
   },
   "outputs": [],
   "source": [
    "labelencoder1 = LabelEncoder()\n",
    "countries_rating_top[\"Country_label\"] = labelencoder1.fit_transform(countries_rating_top[\"Country\"])"
   ]
  },
  {
   "cell_type": "code",
   "execution_count": 49,
   "id": "981ae7b9",
   "metadata": {
    "ExecuteTime": {
     "end_time": "2022-03-10T14:58:03.703316Z",
     "start_time": "2022-03-10T14:58:03.695548Z"
    }
   },
   "outputs": [],
   "source": [
    "labelencoder2 = LabelEncoder()\n",
    "countries_rating_top[\"medal_label\"] = labelencoder2.fit_transform(countries_rating_top[\"Medal\"])"
   ]
  },
  {
   "cell_type": "code",
   "execution_count": 50,
   "id": "15619f66",
   "metadata": {
    "ExecuteTime": {
     "end_time": "2022-03-10T14:58:04.729876Z",
     "start_time": "2022-03-10T14:58:04.723009Z"
    }
   },
   "outputs": [
    {
     "data": {
      "text/plain": [
       "9    0.277643\n",
       "8    0.124077\n",
       "2    0.104154\n",
       "1    0.084534\n",
       "3    0.079024\n",
       "5    0.078479\n",
       "0    0.072000\n",
       "4    0.065339\n",
       "7    0.063219\n",
       "6    0.051532\n",
       "Name: Country_label, dtype: float64"
      ]
     },
     "execution_count": 50,
     "metadata": {},
     "output_type": "execute_result"
    }
   ],
   "source": [
    "countries_rating_top[\"Country_label\"].value_counts(normalize=True)"
   ]
  },
  {
   "cell_type": "markdown",
   "id": "f7a2b1b6",
   "metadata": {},
   "source": [
    "$~$\n",
    "\n",
    "as you can see above, we have changed the names of countries by numbers in the column \"Country_Label\"\n",
    "\n",
    "$~$\n"
   ]
  },
  {
   "cell_type": "code",
   "execution_count": 51,
   "id": "b62c0c2f",
   "metadata": {
    "ExecuteTime": {
     "end_time": "2022-03-10T14:58:06.553740Z",
     "start_time": "2022-03-10T14:58:06.545372Z"
    }
   },
   "outputs": [
    {
     "data": {
      "text/plain": [
       "USA    0.277643\n",
       "URS    0.124077\n",
       "GBR    0.104154\n",
       "FRA    0.084534\n",
       "GER    0.079024\n",
       "ITA    0.078479\n",
       "AUS    0.072000\n",
       "HUN    0.065339\n",
       "SWE    0.063219\n",
       "NED    0.051532\n",
       "Name: Country, dtype: float64"
      ]
     },
     "execution_count": 51,
     "metadata": {},
     "output_type": "execute_result"
    }
   ],
   "source": [
    "countries_rating_top[\"Country\"].value_counts(normalize=True)"
   ]
  },
  {
   "cell_type": "markdown",
   "id": "bec9eeeb",
   "metadata": {},
   "source": [
    "$~$\n",
    "\n",
    "Having done all of the above,  now we can do SMOTE sampling\n",
    "\n",
    "\n",
    "$~$"
   ]
  },
  {
   "cell_type": "code",
   "execution_count": 52,
   "id": "4d7202f0",
   "metadata": {
    "ExecuteTime": {
     "end_time": "2022-03-10T14:58:07.753297Z",
     "start_time": "2022-03-10T14:58:07.668816Z"
    }
   },
   "outputs": [],
   "source": [
    "smote = SMOTE(sampling_strategy=\"not minority\", random_state=6858)\n",
    "\n",
    "X,y = smote.fit_resample(countries_rating_top[[\"Country_label\",\"medal_label\"]],countries_rating_top[\"Country_label\"])"
   ]
  },
  {
   "cell_type": "code",
   "execution_count": 53,
   "id": "4402207a",
   "metadata": {
    "ExecuteTime": {
     "end_time": "2022-03-10T14:58:08.168544Z",
     "start_time": "2022-03-10T14:58:08.160813Z"
    }
   },
   "outputs": [
    {
     "data": {
      "text/plain": [
       "4    0.108866\n",
       "9    0.108866\n",
       "3    0.108866\n",
       "2    0.108866\n",
       "1    0.108866\n",
       "0    0.108866\n",
       "7    0.108866\n",
       "5    0.108866\n",
       "8    0.108866\n",
       "6    0.020206\n",
       "Name: Country_label, dtype: float64"
      ]
     },
     "execution_count": 53,
     "metadata": {},
     "output_type": "execute_result"
    }
   ],
   "source": [
    "y.value_counts(normalize=True)"
   ]
  },
  {
   "cell_type": "code",
   "execution_count": 54,
   "id": "f2cd0b16",
   "metadata": {
    "ExecuteTime": {
     "end_time": "2022-03-10T14:58:08.860463Z",
     "start_time": "2022-03-10T14:58:08.855819Z"
    }
   },
   "outputs": [
    {
     "name": "stdout",
     "output_type": "stream",
     "text": [
      "(42116, 2)\n",
      "(16514, 11)\n"
     ]
    }
   ],
   "source": [
    "print(X.shape)\n",
    "print(countries_rating_top.shape)"
   ]
  },
  {
   "cell_type": "markdown",
   "id": "b548f3f3",
   "metadata": {},
   "source": [
    "$~$\n",
    "\n",
    "as a result we have that now the proportion of medals is balanced and we also have a larger dataset (check the X.shape)\n",
    "\n",
    "$~$\n",
    "___\n",
    "to be able to make comparisons, we are going to put the country labels back\n",
    "$~$"
   ]
  },
  {
   "cell_type": "code",
   "execution_count": 55,
   "id": "3f7b8852",
   "metadata": {
    "ExecuteTime": {
     "end_time": "2022-03-10T14:58:10.177873Z",
     "start_time": "2022-03-10T14:58:10.170892Z"
    }
   },
   "outputs": [],
   "source": [
    "X[\"Country\"] = labelencoder1.inverse_transform(X[\"Country_label\"])"
   ]
  },
  {
   "cell_type": "markdown",
   "id": "53507d73",
   "metadata": {},
   "source": [
    "$~$\n",
    "\n",
    "Next, let's see the results of the proportions of the different sampling methods\n",
    "\n",
    "$~$"
   ]
  },
  {
   "cell_type": "code",
   "execution_count": 56,
   "id": "5def6714",
   "metadata": {
    "ExecuteTime": {
     "end_time": "2022-03-10T14:58:11.403475Z",
     "start_time": "2022-03-10T14:58:11.357059Z"
    }
   },
   "outputs": [
    {
     "data": {
      "text/html": [
       "<div>\n",
       "<style scoped>\n",
       "    .dataframe tbody tr th:only-of-type {\n",
       "        vertical-align: middle;\n",
       "    }\n",
       "\n",
       "    .dataframe tbody tr th {\n",
       "        vertical-align: top;\n",
       "    }\n",
       "\n",
       "    .dataframe thead th {\n",
       "        text-align: right;\n",
       "    }\n",
       "</style>\n",
       "<table border=\"1\" class=\"dataframe\">\n",
       "  <thead>\n",
       "    <tr style=\"text-align: right;\">\n",
       "      <th></th>\n",
       "      <th>pop_proportion</th>\n",
       "      <th>stat_proportion</th>\n",
       "      <th>train_stat_proportion</th>\n",
       "      <th>smote_proportion</th>\n",
       "    </tr>\n",
       "  </thead>\n",
       "  <tbody>\n",
       "    <tr>\n",
       "      <th>USA</th>\n",
       "      <td>0.277643</td>\n",
       "      <td>0.277408</td>\n",
       "      <td>0.277845</td>\n",
       "      <td>0.108866</td>\n",
       "    </tr>\n",
       "    <tr>\n",
       "      <th>URS</th>\n",
       "      <td>0.124077</td>\n",
       "      <td>0.124167</td>\n",
       "      <td>0.124092</td>\n",
       "      <td>0.108866</td>\n",
       "    </tr>\n",
       "    <tr>\n",
       "      <th>GBR</th>\n",
       "      <td>0.104154</td>\n",
       "      <td>0.104179</td>\n",
       "      <td>0.104116</td>\n",
       "      <td>0.108866</td>\n",
       "    </tr>\n",
       "    <tr>\n",
       "      <th>FRA</th>\n",
       "      <td>0.084534</td>\n",
       "      <td>0.084797</td>\n",
       "      <td>0.084746</td>\n",
       "      <td>0.108866</td>\n",
       "    </tr>\n",
       "    <tr>\n",
       "      <th>GER</th>\n",
       "      <td>0.079024</td>\n",
       "      <td>0.078740</td>\n",
       "      <td>0.078692</td>\n",
       "      <td>0.108866</td>\n",
       "    </tr>\n",
       "    <tr>\n",
       "      <th>ITA</th>\n",
       "      <td>0.078479</td>\n",
       "      <td>0.078740</td>\n",
       "      <td>0.078692</td>\n",
       "      <td>0.108866</td>\n",
       "    </tr>\n",
       "    <tr>\n",
       "      <th>AUS</th>\n",
       "      <td>0.072000</td>\n",
       "      <td>0.072078</td>\n",
       "      <td>0.072034</td>\n",
       "      <td>0.108866</td>\n",
       "    </tr>\n",
       "    <tr>\n",
       "      <th>HUN</th>\n",
       "      <td>0.065339</td>\n",
       "      <td>0.065415</td>\n",
       "      <td>0.065375</td>\n",
       "      <td>0.108866</td>\n",
       "    </tr>\n",
       "    <tr>\n",
       "      <th>SWE</th>\n",
       "      <td>0.063219</td>\n",
       "      <td>0.062992</td>\n",
       "      <td>0.062954</td>\n",
       "      <td>0.108866</td>\n",
       "    </tr>\n",
       "    <tr>\n",
       "      <th>NED</th>\n",
       "      <td>0.051532</td>\n",
       "      <td>0.051484</td>\n",
       "      <td>0.051453</td>\n",
       "      <td>0.020206</td>\n",
       "    </tr>\n",
       "  </tbody>\n",
       "</table>\n",
       "</div>"
      ],
      "text/plain": [
       "     pop_proportion  stat_proportion  train_stat_proportion  smote_proportion\n",
       "USA        0.277643         0.277408               0.277845          0.108866\n",
       "URS        0.124077         0.124167               0.124092          0.108866\n",
       "GBR        0.104154         0.104179               0.104116          0.108866\n",
       "FRA        0.084534         0.084797               0.084746          0.108866\n",
       "GER        0.079024         0.078740               0.078692          0.108866\n",
       "ITA        0.078479         0.078740               0.078692          0.108866\n",
       "AUS        0.072000         0.072078               0.072034          0.108866\n",
       "HUN        0.065339         0.065415               0.065375          0.108866\n",
       "SWE        0.063219         0.062992               0.062954          0.108866\n",
       "NED        0.051532         0.051484               0.051453          0.020206"
      ]
     },
     "execution_count": 56,
     "metadata": {},
     "output_type": "execute_result"
    }
   ],
   "source": [
    "df1 = countries_rating_top[\"Country\"].value_counts(normalize=True).to_frame('pop_proportion')\n",
    "df2 = country_rating_samp[\"Country\"].value_counts(normalize=True).to_frame('stat_proportion')\n",
    "df3 = stratified_df[\"Country\"].value_counts(normalize=True).to_frame('train_stat_proportion')\n",
    "df4= X[\"Country\"].value_counts(normalize=True).to_frame(\"smote_proportion\")\n",
    "\n",
    "pd.concat([df1, df2, df3,df4],axis=1)"
   ]
  },
  {
   "cell_type": "markdown",
   "id": "12b27828",
   "metadata": {},
   "source": [
    "___\n",
    "$~$\n",
    "\n",
    "####   Reservoir sampling method\n",
    "\n",
    "$~$\n",
    "Continue with the sports theme dataset and generate a sample using the Reservoir sampling method.\n",
    "\n",
    "$~$\n",
    "\n",
    "+ here we will follow this [tutorial](https://towardsdatascience.com/the-5-sampling-algorithms-every-data-scientist-need-to-know-43c7bc11d17c):\n",
    "\n",
    "$~$\n",
    "___"
   ]
  },
  {
   "cell_type": "code",
   "execution_count": 57,
   "id": "e5c85272",
   "metadata": {
    "ExecuteTime": {
     "end_time": "2022-03-10T14:58:12.791700Z",
     "start_time": "2022-03-10T14:58:12.773803Z"
    }
   },
   "outputs": [],
   "source": [
    "\n",
    "def generator(max):\n",
    "    number = 1\n",
    "    while number < max:\n",
    "        number += 1\n",
    "        yield number\n",
    "\n",
    "stream = generator(len(countries_rating_top))\n",
    "k=384\n",
    "reservoir = []\n",
    "\n",
    "for i, element in enumerate(stream):\n",
    "    if i+1<= k:\n",
    "        reservoir.append(element)\n",
    "    else:\n",
    "        probability = k/(i+1)\n",
    "        if random.random() < probability:\n",
    "             reservoir[random.choice(range(0,k))] = element"
   ]
  },
  {
   "cell_type": "code",
   "execution_count": 58,
   "id": "4c268ab4",
   "metadata": {
    "ExecuteTime": {
     "end_time": "2022-03-10T14:58:13.733801Z",
     "start_time": "2022-03-10T14:58:13.720247Z"
    }
   },
   "outputs": [
    {
     "data": {
      "text/html": [
       "<div>\n",
       "<style scoped>\n",
       "    .dataframe tbody tr th:only-of-type {\n",
       "        vertical-align: middle;\n",
       "    }\n",
       "\n",
       "    .dataframe tbody tr th {\n",
       "        vertical-align: top;\n",
       "    }\n",
       "\n",
       "    .dataframe thead th {\n",
       "        text-align: right;\n",
       "    }\n",
       "</style>\n",
       "<table border=\"1\" class=\"dataframe\">\n",
       "  <thead>\n",
       "    <tr style=\"text-align: right;\">\n",
       "      <th></th>\n",
       "      <th>Year</th>\n",
       "      <th>City</th>\n",
       "      <th>Sport</th>\n",
       "      <th>Discipline</th>\n",
       "      <th>Athlete</th>\n",
       "      <th>Country</th>\n",
       "      <th>Gender</th>\n",
       "      <th>Event</th>\n",
       "      <th>Medal</th>\n",
       "      <th>Country_label</th>\n",
       "      <th>medal_label</th>\n",
       "    </tr>\n",
       "  </thead>\n",
       "  <tbody>\n",
       "    <tr>\n",
       "      <th>1113</th>\n",
       "      <td>1904</td>\n",
       "      <td>St Louis</td>\n",
       "      <td>Wrestling</td>\n",
       "      <td>Wrestling Free.</td>\n",
       "      <td>CURRY, Robert</td>\n",
       "      <td>USA</td>\n",
       "      <td>Men</td>\n",
       "      <td>- 47.6KG (Light-Flyweight)</td>\n",
       "      <td>Gold</td>\n",
       "      <td>9</td>\n",
       "      <td>1</td>\n",
       "    </tr>\n",
       "    <tr>\n",
       "      <th>10267</th>\n",
       "      <td>1960</td>\n",
       "      <td>Rome</td>\n",
       "      <td>Fencing</td>\n",
       "      <td>Fencing</td>\n",
       "      <td>CURLETTO, Mario</td>\n",
       "      <td>ITA</td>\n",
       "      <td>Men</td>\n",
       "      <td>Foil Team</td>\n",
       "      <td>Silver</td>\n",
       "      <td>5</td>\n",
       "      <td>2</td>\n",
       "    </tr>\n",
       "    <tr>\n",
       "      <th>19807</th>\n",
       "      <td>1992</td>\n",
       "      <td>Barcelona</td>\n",
       "      <td>Aquatics</td>\n",
       "      <td>Water polo</td>\n",
       "      <td>GANDOLFI, Ferdinando</td>\n",
       "      <td>ITA</td>\n",
       "      <td>Men</td>\n",
       "      <td>Water Polo</td>\n",
       "      <td>Gold</td>\n",
       "      <td>5</td>\n",
       "      <td>1</td>\n",
       "    </tr>\n",
       "    <tr>\n",
       "      <th>14143</th>\n",
       "      <td>1976</td>\n",
       "      <td>Montreal</td>\n",
       "      <td>Athletics</td>\n",
       "      <td>Athletics</td>\n",
       "      <td>AKSENOVA, Lyudmila</td>\n",
       "      <td>URS</td>\n",
       "      <td>Women</td>\n",
       "      <td>4X400M Relay</td>\n",
       "      <td>Bronze</td>\n",
       "      <td>8</td>\n",
       "      <td>0</td>\n",
       "    </tr>\n",
       "    <tr>\n",
       "      <th>29377</th>\n",
       "      <td>2012</td>\n",
       "      <td>London</td>\n",
       "      <td>Aquatics</td>\n",
       "      <td>Swimming</td>\n",
       "      <td>DORSOGNA, Tommaso</td>\n",
       "      <td>AUS</td>\n",
       "      <td>Men</td>\n",
       "      <td>4X100M Medley</td>\n",
       "      <td>Bronze</td>\n",
       "      <td>0</td>\n",
       "      <td>0</td>\n",
       "    </tr>\n",
       "  </tbody>\n",
       "</table>\n",
       "</div>"
      ],
      "text/plain": [
       "       Year       City      Sport       Discipline               Athlete  \\\n",
       "1113   1904   St Louis  Wrestling  Wrestling Free.         CURRY, Robert   \n",
       "10267  1960       Rome    Fencing          Fencing       CURLETTO, Mario   \n",
       "19807  1992  Barcelona   Aquatics       Water polo  GANDOLFI, Ferdinando   \n",
       "14143  1976   Montreal  Athletics        Athletics    AKSENOVA, Lyudmila   \n",
       "29377  2012     London   Aquatics         Swimming     DORSOGNA, Tommaso   \n",
       "\n",
       "      Country Gender                       Event   Medal  Country_label  \\\n",
       "1113      USA    Men  - 47.6KG (Light-Flyweight)    Gold              9   \n",
       "10267     ITA    Men                   Foil Team  Silver              5   \n",
       "19807     ITA    Men                  Water Polo    Gold              5   \n",
       "14143     URS  Women                4X400M Relay  Bronze              8   \n",
       "29377     AUS    Men               4X100M Medley  Bronze              0   \n",
       "\n",
       "       medal_label  \n",
       "1113             1  \n",
       "10267            2  \n",
       "19807            1  \n",
       "14143            0  \n",
       "29377            0  "
      ]
     },
     "execution_count": 58,
     "metadata": {},
     "output_type": "execute_result"
    }
   ],
   "source": [
    "reservoir_sample = countries_rating_top.iloc[reservoir]\n",
    "reservoir_sample.head()\n"
   ]
  },
  {
   "cell_type": "markdown",
   "id": "4181142c",
   "metadata": {},
   "source": [
    "$~$\n",
    "\n",
    "to see how good this method is, let's see the proportion of medals by country:\n",
    "\n",
    "$~$"
   ]
  },
  {
   "cell_type": "code",
   "execution_count": 59,
   "id": "1998b2e7",
   "metadata": {
    "ExecuteTime": {
     "end_time": "2022-03-10T14:58:15.266707Z",
     "start_time": "2022-03-10T14:58:15.259961Z"
    }
   },
   "outputs": [
    {
     "data": {
      "text/plain": [
       "USA    0.257812\n",
       "URS    0.106771\n",
       "GBR    0.104167\n",
       "GER    0.093750\n",
       "FRA    0.091146\n",
       "AUS    0.080729\n",
       "SWE    0.080729\n",
       "ITA    0.070312\n",
       "NED    0.065104\n",
       "HUN    0.049479\n",
       "Name: Country, dtype: float64"
      ]
     },
     "execution_count": 59,
     "metadata": {},
     "output_type": "execute_result"
    }
   ],
   "source": [
    "reservoir_sample[\"Country\"].value_counts(normalize=True)"
   ]
  },
  {
   "cell_type": "markdown",
   "id": "228c6806",
   "metadata": {},
   "source": [
    "$~$\n",
    "\n",
    "to get a better perspective, let's look at 3  methods together:\n",
    "\n",
    "$~$"
   ]
  },
  {
   "cell_type": "code",
   "execution_count": 60,
   "id": "b1259e3e",
   "metadata": {
    "ExecuteTime": {
     "end_time": "2022-03-10T14:58:16.719255Z",
     "start_time": "2022-03-10T14:58:16.696662Z"
    }
   },
   "outputs": [
    {
     "data": {
      "text/html": [
       "<div>\n",
       "<style scoped>\n",
       "    .dataframe tbody tr th:only-of-type {\n",
       "        vertical-align: middle;\n",
       "    }\n",
       "\n",
       "    .dataframe tbody tr th {\n",
       "        vertical-align: top;\n",
       "    }\n",
       "\n",
       "    .dataframe thead th {\n",
       "        text-align: right;\n",
       "    }\n",
       "</style>\n",
       "<table border=\"1\" class=\"dataframe\">\n",
       "  <thead>\n",
       "    <tr style=\"text-align: right;\">\n",
       "      <th></th>\n",
       "      <th>pop_proportion</th>\n",
       "      <th>stat_proportion</th>\n",
       "      <th>train_stat_proportion</th>\n",
       "      <th>smote_proportion</th>\n",
       "      <th>reservoir_sample</th>\n",
       "    </tr>\n",
       "  </thead>\n",
       "  <tbody>\n",
       "    <tr>\n",
       "      <th>USA</th>\n",
       "      <td>0.277643</td>\n",
       "      <td>0.277408</td>\n",
       "      <td>0.277845</td>\n",
       "      <td>0.108866</td>\n",
       "      <td>0.257812</td>\n",
       "    </tr>\n",
       "    <tr>\n",
       "      <th>URS</th>\n",
       "      <td>0.124077</td>\n",
       "      <td>0.124167</td>\n",
       "      <td>0.124092</td>\n",
       "      <td>0.108866</td>\n",
       "      <td>0.106771</td>\n",
       "    </tr>\n",
       "    <tr>\n",
       "      <th>GBR</th>\n",
       "      <td>0.104154</td>\n",
       "      <td>0.104179</td>\n",
       "      <td>0.104116</td>\n",
       "      <td>0.108866</td>\n",
       "      <td>0.104167</td>\n",
       "    </tr>\n",
       "    <tr>\n",
       "      <th>FRA</th>\n",
       "      <td>0.084534</td>\n",
       "      <td>0.084797</td>\n",
       "      <td>0.084746</td>\n",
       "      <td>0.108866</td>\n",
       "      <td>0.091146</td>\n",
       "    </tr>\n",
       "    <tr>\n",
       "      <th>GER</th>\n",
       "      <td>0.079024</td>\n",
       "      <td>0.078740</td>\n",
       "      <td>0.078692</td>\n",
       "      <td>0.108866</td>\n",
       "      <td>0.093750</td>\n",
       "    </tr>\n",
       "    <tr>\n",
       "      <th>ITA</th>\n",
       "      <td>0.078479</td>\n",
       "      <td>0.078740</td>\n",
       "      <td>0.078692</td>\n",
       "      <td>0.108866</td>\n",
       "      <td>0.070312</td>\n",
       "    </tr>\n",
       "    <tr>\n",
       "      <th>AUS</th>\n",
       "      <td>0.072000</td>\n",
       "      <td>0.072078</td>\n",
       "      <td>0.072034</td>\n",
       "      <td>0.108866</td>\n",
       "      <td>0.080729</td>\n",
       "    </tr>\n",
       "    <tr>\n",
       "      <th>HUN</th>\n",
       "      <td>0.065339</td>\n",
       "      <td>0.065415</td>\n",
       "      <td>0.065375</td>\n",
       "      <td>0.108866</td>\n",
       "      <td>0.049479</td>\n",
       "    </tr>\n",
       "    <tr>\n",
       "      <th>SWE</th>\n",
       "      <td>0.063219</td>\n",
       "      <td>0.062992</td>\n",
       "      <td>0.062954</td>\n",
       "      <td>0.108866</td>\n",
       "      <td>0.080729</td>\n",
       "    </tr>\n",
       "    <tr>\n",
       "      <th>NED</th>\n",
       "      <td>0.051532</td>\n",
       "      <td>0.051484</td>\n",
       "      <td>0.051453</td>\n",
       "      <td>0.020206</td>\n",
       "      <td>0.065104</td>\n",
       "    </tr>\n",
       "  </tbody>\n",
       "</table>\n",
       "</div>"
      ],
      "text/plain": [
       "     pop_proportion  stat_proportion  train_stat_proportion  smote_proportion  \\\n",
       "USA        0.277643         0.277408               0.277845          0.108866   \n",
       "URS        0.124077         0.124167               0.124092          0.108866   \n",
       "GBR        0.104154         0.104179               0.104116          0.108866   \n",
       "FRA        0.084534         0.084797               0.084746          0.108866   \n",
       "GER        0.079024         0.078740               0.078692          0.108866   \n",
       "ITA        0.078479         0.078740               0.078692          0.108866   \n",
       "AUS        0.072000         0.072078               0.072034          0.108866   \n",
       "HUN        0.065339         0.065415               0.065375          0.108866   \n",
       "SWE        0.063219         0.062992               0.062954          0.108866   \n",
       "NED        0.051532         0.051484               0.051453          0.020206   \n",
       "\n",
       "     reservoir_sample  \n",
       "USA          0.257812  \n",
       "URS          0.106771  \n",
       "GBR          0.104167  \n",
       "FRA          0.091146  \n",
       "GER          0.093750  \n",
       "ITA          0.070312  \n",
       "AUS          0.080729  \n",
       "HUN          0.049479  \n",
       "SWE          0.080729  \n",
       "NED          0.065104  "
      ]
     },
     "execution_count": 60,
     "metadata": {},
     "output_type": "execute_result"
    }
   ],
   "source": [
    "df1 = countries_rating_top[\"Country\"].value_counts(normalize=True).to_frame('pop_proportion')\n",
    "df2 = country_rating_samp[\"Country\"].value_counts(normalize=True).to_frame('stat_proportion')\n",
    "df3 = stratified_df[\"Country\"].value_counts(normalize=True).to_frame('train_stat_proportion')\n",
    "df4= X[\"Country\"].value_counts(normalize=True).to_frame(\"smote_proportion\")\n",
    "df5= reservoir_sample[\"Country\"].value_counts(normalize=True).to_frame(\"reservoir_sample\")\n",
    "pd.concat([df1, df2, df3,df4,df5],axis=1)"
   ]
  },
  {
   "cell_type": "markdown",
   "id": "532f8769",
   "metadata": {},
   "source": [
    "_____\n",
    "$~$\n",
    "\n",
    "###  conclusions\n",
    "\n",
    "$~$\n",
    "\n",
    "+ simple random sampling can be useful, but must be taken into account if the data is subgrouped.\n",
    "+ both simple random sampling and random sampling how systematic sampling negatively affects subgroups with low proportions\n",
    "+ Stratified sampling can be obtained by two different methods. In both cases the results obtained are similar.\n",
    "+ to apply the SMOTE method it is necessary to transform the categorical variables to numeric ones. And this can be done using the label encoder\n",
    "+ the reservoir sample method can be interesting, however, in the case of having data with subgroups, the samples obtained tend to be unbalanced"
   ]
  },
  {
   "cell_type": "markdown",
   "id": "d0eedf5c",
   "metadata": {},
   "source": [
    "----------------\n",
    "$~$\n",
    "\n",
    "### *references*:\n",
    "\n",
    "+ [\n",
    "How to Download Kaggle Datasets using Jupyter Notebook\n",
    "](https://www.analyticsvidhya.com/blog/2021/04/how-to-download-kaggle-datasets-using-jupyter-notebook/)\n",
    "+ [Combining Pandas DataFrames: The easy way](https://towardsdatascience.com/combining-pandas-dataframes-the-easy-way-41eb0f2c1ebf)\n",
    "+ [How to Display Two Pandas Dataframes side by side in Jupyter Notebook ](https://softhints.com/display-two-pandas-dataframes-side-by-side-jupyter-notebook/#solution3displaytwodataframebypandasmergewithoutindex)\n",
    "+ [The 5 Sampling Algorithms every Data Scientist need to know](https://towardsdatascience.com/the-5-sampling-algorithms-every-data-scientist-need-to-know-43c7bc11d17c)\n",
    "+ [LabelEncoder](https://interactivechaos.com/es/python/function/labelencoder)\n",
    "+ [Label Encoding in Python Explained](https://www.mygreatlearning.com/blog/label-encoding-in-python/#labelencodingusingpython)\n",
    "\n",
    "\n",
    "\n",
    "-------------"
   ]
  },
  {
   "cell_type": "code",
   "execution_count": null,
   "id": "b433f861",
   "metadata": {},
   "outputs": [],
   "source": []
  }
 ],
 "metadata": {
  "kernelspec": {
   "display_name": "Python 3 (ipykernel)",
   "language": "python",
   "name": "python3"
  },
  "language_info": {
   "codemirror_mode": {
    "name": "ipython",
    "version": 3
   },
   "file_extension": ".py",
   "mimetype": "text/x-python",
   "name": "python",
   "nbconvert_exporter": "python",
   "pygments_lexer": "ipython3",
   "version": "3.9.7"
  },
  "toc": {
   "base_numbering": "",
   "nav_menu": {
    "height": "223px",
    "width": "317px"
   },
   "number_sections": false,
   "sideBar": true,
   "skip_h1_title": true,
   "title_cell": "Table of Contents",
   "title_sidebar": "Contents",
   "toc_cell": false,
   "toc_position": {
    "height": "455px",
    "left": "605px",
    "top": "136.633px",
    "width": "240px"
   },
   "toc_section_display": true,
   "toc_window_display": true
  }
 },
 "nbformat": 4,
 "nbformat_minor": 5
}
